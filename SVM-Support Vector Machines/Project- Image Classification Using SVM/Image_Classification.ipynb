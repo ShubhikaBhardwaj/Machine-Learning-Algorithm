{
  "nbformat": 4,
  "nbformat_minor": 0,
  "metadata": {
    "colab": {
      "name": "Image Classification.ipynb",
      "provenance": [],
      "authorship_tag": "ABX9TyNrYX/vfDe+to+gsb3KYF1k",
      "include_colab_link": true
    },
    "kernelspec": {
      "name": "python3",
      "display_name": "Python 3"
    }
  },
  "cells": [
    {
      "cell_type": "markdown",
      "metadata": {
        "id": "view-in-github",
        "colab_type": "text"
      },
      "source": [
        "<a href=\"https://colab.research.google.com/github/ShubhikaBhardwaj/Machine-Learning-Algorithm/blob/master/Image_Classification.ipynb\" target=\"_parent\"><img src=\"https://colab.research.google.com/assets/colab-badge.svg\" alt=\"Open In Colab\"/></a>"
      ]
    },
    {
      "cell_type": "code",
      "metadata": {
        "id": "rB94ZgOK8uiu",
        "colab_type": "code",
        "colab": {}
      },
      "source": [
        "import numpy as np"
      ],
      "execution_count": 0,
      "outputs": []
    },
    {
      "cell_type": "markdown",
      "metadata": {
        "id": "Ry1rbqBqFg57",
        "colab_type": "text"
      },
      "source": [
        "# Multiclass Image Classification"
      ]
    },
    {
      "cell_type": "code",
      "metadata": {
        "id": "k5cVLoLXFZsX",
        "colab_type": "code",
        "colab": {}
      },
      "source": [
        "#Dataset Preparation"
      ],
      "execution_count": 0,
      "outputs": []
    },
    {
      "cell_type": "code",
      "metadata": {
        "id": "5xVtr8-ZFv2D",
        "colab_type": "code",
        "colab": {
          "base_uri": "https://localhost:8080/",
          "height": 35
        },
        "outputId": "7fa58a6c-cfb8-437d-ed0c-8ddb3753d934"
      },
      "source": [
        "import os \n",
        "from pathlib import Path\n",
        "from keras.preprocessing import image"
      ],
      "execution_count": 4,
      "outputs": [
        {
          "output_type": "stream",
          "text": [
            "Using TensorFlow backend.\n"
          ],
          "name": "stderr"
        }
      ]
    },
    {
      "cell_type": "code",
      "metadata": {
        "id": "dk0m-RaSFyYP",
        "colab_type": "code",
        "colab": {}
      },
      "source": [
        "import matplotlib.pyplot as plt"
      ],
      "execution_count": 0,
      "outputs": []
    },
    {
      "cell_type": "code",
      "metadata": {
        "id": "N11wcJvyF07w",
        "colab_type": "code",
        "colab": {}
      },
      "source": [
        "p = Path(\"../../Datasets/Images/\")\n",
        "\n",
        "dirs = p.glob(\"*\")\n",
        "\n",
        "labels_dict = {\"cat\":0,\"dog\":1,\"horse\":2,\"human\":3}\n",
        "\n",
        "image_data = []\n",
        "labels = []\n",
        "\n",
        "for folder_dir in dirs:\n",
        "    #print(folder_name)\n",
        "    label = str(folder_dir).split(\"\\\\\")[-1][:-1]\n",
        "    \n",
        "    \n",
        "    for img_path in folder_dir.glob(\"*.jpg\"):\n",
        "        img = image.load_img(img_path,target_size=(32,32))\n",
        "        img_array = image.img_to_array(img)\n",
        "        image_data.append(img_array)\n",
        "        labels.append(labels_dict[label])"
      ],
      "execution_count": 0,
      "outputs": []
    },
    {
      "cell_type": "code",
      "metadata": {
        "id": "y1UOLY8hF57J",
        "colab_type": "code",
        "colab": {
          "base_uri": "https://localhost:8080/",
          "height": 35
        },
        "outputId": "fe4b44e7-31e4-4238-8420-d104195cbb4b"
      },
      "source": [
        "\n",
        "# Convert this into numpy array\n",
        "image_data = np.array(image_data,dtype='float32')/255.0\n",
        "labels = np.array(labels)\n",
        "\n",
        "print(image_data.shape,labels.shape)"
      ],
      "execution_count": 7,
      "outputs": [
        {
          "output_type": "stream",
          "text": [
            "(0,) (0,)\n"
          ],
          "name": "stdout"
        }
      ]
    },
    {
      "cell_type": "code",
      "metadata": {
        "id": "9-bBGkc5F8km",
        "colab_type": "code",
        "colab": {}
      },
      "source": [
        ""
      ],
      "execution_count": 0,
      "outputs": []
    }
  ]
}