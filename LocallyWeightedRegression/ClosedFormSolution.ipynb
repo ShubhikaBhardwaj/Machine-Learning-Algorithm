{
 "cells": [
  {
   "cell_type": "markdown",
   "metadata": {},
   "source": [
    "# Closed Form Solution in Linear regression"
   ]
  },
  {
   "cell_type": "code",
   "execution_count": 2,
   "metadata": {},
   "outputs": [],
   "source": [
    "import numpy as np\n",
    "import pandas as pd\n",
    "import matplotlib.pyplot as plt\n",
    "from sklearn.datasets import make_regression"
   ]
  },
  {
   "cell_type": "code",
   "execution_count": 4,
   "metadata": {},
   "outputs": [
    {
     "name": "stdout",
     "output_type": "stream",
     "text": [
      "(400, 1)\n",
      "(400, 1)\n"
     ]
    }
   ],
   "source": [
    "#generate dataset\n",
    "X,Y=make_regression(n_samples=400,n_features=1,n_informative=1,noise=1.8,random_state=11)\n",
    "Y=Y.reshape((-1,1))\n",
    "print(X.shape)\n",
    "print(Y.shape)"
   ]
  },
  {
   "cell_type": "code",
   "execution_count": 5,
   "metadata": {},
   "outputs": [
    {
     "data": {
      "image/png": "[encoded data removed]",
      "text/plain": [
       "<Figure size 432x288 with 1 Axes>"
      ]
     },
     "metadata": {
      "needs_background": "light"
     },
     "output_type": "display_data"
    }
   ],
   "source": [
    "#Normalise the dataset\n",
    "u=X.mean()\n",
    "std=X.std()\n",
    "X=(X-u)/std\n",
    "\n",
    "#visualize\n",
    "plt.scatter(X,Y)\n",
    "plt.title('Normalised Data')\n",
    "plt.show()"
   ]
  },
  {
   "cell_type": "code",
   "execution_count": 8,
   "metadata": {},
   "outputs": [
    {
     "name": "stdout",
     "output_type": "stream",
     "text": [
      "(400, 2)\n",
      "[[-0.86881353  1.        ]\n",
      " [ 1.04796658  1.        ]\n",
      " [-0.2019676   1.        ]\n",
      " [-0.34017061  1.        ]\n",
      " [ 0.13317349  1.        ]]\n"
     ]
    }
   ],
   "source": [
    "ones=np.ones((X.shape[0],1))\n",
    "X_=np.hstack((X,ones))\n",
    "print(X_.shape)  \n",
    "print(X_[:5,:])"
   ]
  },
  {
   "cell_type": "code",
   "execution_count": 11,
   "metadata": {},
   "outputs": [],
   "source": [
    "def predict(X,theta):\n",
    "    return np.dot(X,theta)\n",
    "\n",
    "def getThetaClosedForm(X,Y):\n",
    "    Y=np.mat(Y)   #convert Y into a matrix\n",
    "    firstPart=np.dot(X.T,X)\n",
    "    secondPart=np.dot(X.T,Y)\n",
    "    #linear algebra pseudo inverse\n",
    "    theta=np.linalg.pinv(firstPart)*secondPart\n",
    "    return theta"
   ]
  },
  {
   "cell_type": "code",
   "execution_count": 12,
   "metadata": {},
   "outputs": [
    {
     "name": "stdout",
     "output_type": "stream",
     "text": [
      "[[19.45877082]\n",
      " [-0.29187892]]\n"
     ]
    }
   ],
   "source": [
    "theta=getThetaClosedForm(X_,Y)\n",
    "print(theta)"
   ]
  },
  {
   "cell_type": "code",
   "execution_count": 15,
   "metadata": {},
   "outputs": [
    {
     "data": {
      "image/png": "[encoded data removed]",
      "text/plain": [
       "<Figure size 432x288 with 1 Axes>"
      ]
     },
     "metadata": {
      "needs_background": "light"
     },
     "output_type": "display_data"
    }
   ],
   "source": [
    "plt.scatter(X,Y,color=\"Blue\")\n",
    "plt.plot(X,predict(X_,theta),color='red',label='prediction')\n",
    "plt.show()"
   ]
  },
  {
   "cell_type": "code",
   "execution_count": null,
   "metadata": {},
   "outputs": [],
   "source": []
  },
  {
   "cell_type": "code",
   "execution_count": null,
   "metadata": {},
   "outputs": [],
   "source": []
  }
 ],
 "metadata": {
  "kernelspec": {
   "display_name": "Python 3",
   "language": "python",
   "name": "python3"
  },
  "language_info": {
   "codemirror_mode": {
    "name": "ipython",
    "version": 3
   },
   "file_extension": ".py",
   "mimetype": "text/x-python",
   "name": "python",
   "nbconvert_exporter": "python",
   "pygments_lexer": "ipython3",
   "version": "3.8.2"
  }
 },
 "nbformat": 4,
 "nbformat_minor": 4
}
