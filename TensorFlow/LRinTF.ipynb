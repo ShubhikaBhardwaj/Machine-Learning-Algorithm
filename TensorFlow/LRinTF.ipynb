{
 "cells": [
  {
   "cell_type": "code",
   "execution_count": 20,
   "metadata": {},
   "outputs": [],
   "source": [
    "import numpy as np\n",
    "import tensorflow as tf\n",
    "from sklearn.datasets import load_boston\n",
    "from sklearn.model_selection import train_test_split"
   ]
  },
  {
   "cell_type": "code",
   "execution_count": 2,
   "metadata": {},
   "outputs": [],
   "source": [
    "boston = load_boston()"
   ]
  },
  {
   "cell_type": "code",
   "execution_count": 4,
   "metadata": {},
   "outputs": [],
   "source": [
    "features = np.array( boston.data )\n",
    "labels = np.array( boston.target )"
   ]
  },
  {
   "cell_type": "code",
   "execution_count": 5,
   "metadata": {},
   "outputs": [
    {
     "name": "stdout",
     "output_type": "stream",
     "text": [
      "((506, 13), (506,))\n"
     ]
    }
   ],
   "source": [
    "print ( features.shape, labels.shape )"
   ]
  },
  {
   "cell_type": "code",
   "execution_count": 6,
   "metadata": {},
   "outputs": [
    {
     "name": "stdout",
     "output_type": "stream",
     "text": [
      "(506, 1)\n"
     ]
    }
   ],
   "source": [
    "labels = np.reshape( labels, (-1,1) )\n",
    "print ( labels.shape )"
   ]
  },
  {
   "cell_type": "code",
   "execution_count": 7,
   "metadata": {},
   "outputs": [],
   "source": [
    "def normalise(data):\n",
    "    ## ( X - mean(X) ) / std(X)\n",
    "    m = np.mean(data)\n",
    "    s = np.std( data )\n",
    "    normalised_data = (data - m)/s\n",
    "    return normalised_data"
   ]
  },
  {
   "cell_type": "code",
   "execution_count": 8,
   "metadata": {},
   "outputs": [],
   "source": [
    "features = normalise(features)\n",
    "labels = normalise(labels)"
   ]
  },
  {
   "cell_type": "code",
   "execution_count": 9,
   "metadata": {},
   "outputs": [],
   "source": [
    "bias_feature = np.ones( shape=(features.shape[0], 1) )"
   ]
  },
  {
   "cell_type": "code",
   "execution_count": 10,
   "metadata": {},
   "outputs": [
    {
     "name": "stdout",
     "output_type": "stream",
     "text": [
      "(506, 14)\n"
     ]
    }
   ],
   "source": [
    "features = np.concatenate( (bias_feature, features) , axis = 1 )\n",
    "print (features.shape)"
   ]
  },
  {
   "cell_type": "code",
   "execution_count": 21,
   "metadata": {},
   "outputs": [],
   "source": [
    "X_train, X_test, Y_train, Y_test = train_test_split( features, labels, test_size = 0.2 )"
   ]
  },
  {
   "cell_type": "code",
   "execution_count": 22,
   "metadata": {},
   "outputs": [
    {
     "name": "stdout",
     "output_type": "stream",
     "text": [
      "((404, 14), (102, 14))\n"
     ]
    }
   ],
   "source": [
    "print (X_train.shape, X_test.shape)"
   ]
  },
  {
   "cell_type": "markdown",
   "metadata": {},
   "source": [
    "## Create Model"
   ]
  },
  {
   "cell_type": "code",
   "execution_count": 11,
   "metadata": {},
   "outputs": [],
   "source": [
    "n_samples = features.shape[0]\n",
    "n_features = features.shape[1]\n",
    "num_epochs = 20"
   ]
  },
  {
   "cell_type": "code",
   "execution_count": 12,
   "metadata": {},
   "outputs": [],
   "source": [
    "X = tf.placeholder( dtype=tf.float32, shape=[None, n_features] )\n",
    "Y = tf.placeholder( dtype=tf.float32, shape=[None,1] )"
   ]
  },
  {
   "cell_type": "code",
   "execution_count": 19,
   "metadata": {},
   "outputs": [
    {
     "name": "stdout",
     "output_type": "stream",
     "text": [
      "<tf.Variable 'Variable_3:0' shape=(14, 1) dtype=float32_ref>\n"
     ]
    }
   ],
   "source": [
    "W = tf.Variable( tf.random_normal( shape=(n_features,1) ) )\n",
    "print (W)"
   ]
  },
  {
   "cell_type": "code",
   "execution_count": 14,
   "metadata": {},
   "outputs": [],
   "source": [
    "y_pred = tf.matmul(X, W)"
   ]
  },
  {
   "cell_type": "code",
   "execution_count": 15,
   "metadata": {},
   "outputs": [],
   "source": [
    "cost = tf.reduce_mean( tf.square( y_pred - Y ) )"
   ]
  },
  {
   "cell_type": "code",
   "execution_count": 16,
   "metadata": {},
   "outputs": [],
   "source": [
    "opt = tf.train.GradientDescentOptimizer(learning_rate=0.01).minimize(cost)"
   ]
  },
  {
   "cell_type": "code",
   "execution_count": 23,
   "metadata": {},
   "outputs": [
    {
     "name": "stdout",
     "output_type": "stream",
     "text": [
      "Epoch 1\n",
      "\n",
      "Training loss is 1.0132 and Testing loss is 0.9213\n",
      "---------\n",
      "Epoch 2\n",
      "\n",
      "Training loss is 1.0103 and Testing loss is 0.9197\n",
      "---------\n",
      "Epoch 3\n",
      "\n",
      "Training loss is 1.0083 and Testing loss is 0.9187\n",
      "---------\n",
      "Epoch 4\n",
      "\n",
      "Training loss is 1.0068 and Testing loss is 0.9180\n",
      "---------\n",
      "Epoch 5\n",
      "\n",
      "Training loss is 1.0057 and Testing loss is 0.9173\n",
      "---------\n",
      "Epoch 6\n",
      "\n",
      "Training loss is 1.0046 and Testing loss is 0.9167\n",
      "---------\n",
      "Epoch 7\n",
      "\n",
      "Training loss is 1.0037 and Testing loss is 0.9161\n",
      "---------\n",
      "Epoch 8\n",
      "\n",
      "Training loss is 1.0028 and Testing loss is 0.9154\n",
      "---------\n",
      "Epoch 9\n",
      "\n",
      "Training loss is 1.0020 and Testing loss is 0.9147\n",
      "---------\n",
      "Epoch 10\n",
      "\n",
      "Training loss is 1.0012 and Testing loss is 0.9140\n",
      "---------\n",
      "Epoch 11\n",
      "\n",
      "Training loss is 1.0003 and Testing loss is 0.9133\n",
      "---------\n",
      "Epoch 12\n",
      "\n",
      "Training loss is 0.9995 and Testing loss is 0.9125\n",
      "---------\n",
      "Epoch 13\n",
      "\n",
      "Training loss is 0.9987 and Testing loss is 0.9118\n",
      "---------\n",
      "Epoch 14\n",
      "\n",
      "Training loss is 0.9979 and Testing loss is 0.9110\n",
      "---------\n",
      "Epoch 15\n",
      "\n",
      "Training loss is 0.9971 and Testing loss is 0.9102\n",
      "---------\n",
      "Epoch 16\n",
      "\n",
      "Training loss is 0.9963 and Testing loss is 0.9094\n",
      "---------\n",
      "Epoch 17\n",
      "\n",
      "Training loss is 0.9956 and Testing loss is 0.9086\n",
      "---------\n",
      "Epoch 18\n",
      "\n",
      "Training loss is 0.9948 and Testing loss is 0.9078\n",
      "---------\n",
      "Epoch 19\n",
      "\n",
      "Training loss is 0.9940 and Testing loss is 0.9070\n",
      "---------\n",
      "Epoch 20\n",
      "\n",
      "Training loss is 0.9932 and Testing loss is 0.9062\n",
      "---------\n"
     ]
    }
   ],
   "source": [
    "with tf.Session() as sess:\n",
    "    ## Imp step\n",
    "    sess.run( tf.global_variables_initializer() )\n",
    "    \n",
    "    for epoch in range(num_epochs):\n",
    "        \n",
    "        sess.run( opt, feed_dict = {\n",
    "            X: X_train,\n",
    "            Y: Y_train\n",
    "        } )\n",
    "        \n",
    "        train_loss = sess.run( cost, feed_dict = {\n",
    "            X: X_train,\n",
    "            Y: Y_train\n",
    "        } )\n",
    "        \n",
    "        test_loss = sess.run( cost, feed_dict = {\n",
    "            X: X_test,\n",
    "            Y: Y_test\n",
    "        } )\n",
    "        \n",
    "        print ( \"Epoch {}\\n\".format(epoch + 1) )\n",
    "        print (\"Training loss is {:.04f} and Testing loss is {:.04f}\".format( train_loss, test_loss ))\n",
    "        print (\"---------\")"
   ]
  },
  {
   "cell_type": "code",
   "execution_count": null,
   "metadata": {},
   "outputs": [],
   "source": []
  }
 ],
 "metadata": {
  "kernelspec": {
   "display_name": "Python 2",
   "language": "python",
   "name": "python2"
  },
  "language_info": {
   "codemirror_mode": {
    "name": "ipython",
    "version": 2
   },
   "file_extension": ".py",
   "mimetype": "text/x-python",
   "name": "python",
   "nbconvert_exporter": "python",
   "pygments_lexer": "ipython2",
   "version": "2.7.15"
  }
 },
 "nbformat": 4,
 "nbformat_minor": 2
}
