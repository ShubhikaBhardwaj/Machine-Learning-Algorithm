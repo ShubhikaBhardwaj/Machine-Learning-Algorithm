{
 "cells": [
  {
   "cell_type": "code",
   "execution_count": 1,
   "metadata": {},
   "outputs": [],
   "source": [
    "import numpy as np\n",
    "import pandas as pd\n",
    "import matplotlib.pyplot as plt"
   ]
  },
  {
   "cell_type": "code",
   "execution_count": 13,
   "metadata": {},
   "outputs": [],
   "source": [
    "X=pd.read_csv('Logistic_X_Train.csv')\n",
    "Y=pd.read_csv('Logistic_Y_Train.csv')\n",
    "X_Test=pd.read_csv('Logistic_X_Test.csv')\n"
   ]
  },
  {
   "cell_type": "code",
   "execution_count": 14,
   "metadata": {},
   "outputs": [
    {
     "name": "stdout",
     "output_type": "stream",
     "text": [
      "            f1        f2        f3\n",
      "0    -1.239375  0.749101 -0.528515\n",
      "1    -1.036070  0.801436 -1.283712\n",
      "2    -0.615579  1.579521 -1.391927\n",
      "3     1.335978  1.348651  1.433564\n",
      "4     0.658925  1.300019  0.571603\n",
      "...        ...       ...       ...\n",
      "2995 -0.455628  1.302303 -1.338027\n",
      "2996 -0.434551  1.597813 -1.748643\n",
      "2997  0.088277  1.638789 -2.193641\n",
      "2998  1.525155  0.859234  1.505308\n",
      "2999 -0.979817  0.563954 -1.539394\n",
      "\n",
      "[3000 rows x 3 columns]\n"
     ]
    }
   ],
   "source": [
    "#normalisation\n",
    "print(X)"
   ]
  },
  {
   "cell_type": "code",
   "execution_count": 15,
   "metadata": {},
   "outputs": [
    {
     "name": "stdout",
     "output_type": "stream",
     "text": [
      "            f1        f2        f3\n",
      "0    -0.934557 -0.244356 -0.461327\n",
      "1    -0.782171 -0.193241 -1.085685\n",
      "2    -0.466993  0.566716 -1.175152\n",
      "3     0.995792  0.341225  1.160818\n",
      "4     0.488309  0.293726  0.448193\n",
      "...        ...       ...       ...\n",
      "2995 -0.347101  0.295957 -1.130590\n",
      "2996 -0.331303  0.584583 -1.470066\n",
      "2997  0.060581  0.624604 -1.837967\n",
      "2998  1.137590 -0.136789  1.220132\n",
      "2999 -0.740007 -0.425190 -1.297070\n",
      "\n",
      "[3000 rows x 3 columns]\n"
     ]
    }
   ],
   "source": [
    "u=X.mean()\n",
    "std=X.std()\n",
    "X=(X-u)/std\n",
    "print(X)"
   ]
  },
  {
   "cell_type": "code",
   "execution_count": 18,
   "metadata": {},
   "outputs": [
    {
     "data": {
      "text/plain": [
       "pandas.core.frame.DataFrame"
      ]
     },
     "execution_count": 18,
     "metadata": {},
     "output_type": "execute_result"
    }
   ],
   "source": [
    "type(X)"
   ]
  },
  {
   "cell_type": "code",
   "execution_count": 20,
   "metadata": {},
   "outputs": [],
   "source": [
    "X=np.array(X)\n",
    "Y=np.array(Y)\n",
    "X_Test=np.array(X_Test)"
   ]
  },
  {
   "cell_type": "code",
   "execution_count": 21,
   "metadata": {},
   "outputs": [
    {
     "name": "stdout",
     "output_type": "stream",
     "text": [
      "<class 'numpy.ndarray'>\n"
     ]
    }
   ],
   "source": [
    "print(type(X_Test))"
   ]
  },
  {
   "cell_type": "code",
   "execution_count": 24,
   "metadata": {},
   "outputs": [
    {
     "name": "stdout",
     "output_type": "stream",
     "text": [
      "[[-0.76750773 -0.2618595  -2.51483147]\n",
      " [-1.24165258  1.44900144 -0.4130893 ]\n",
      " [ 1.92527007  1.93176097  1.34261917]\n",
      " ...\n",
      " [-1.18696873  0.94734729 -0.78638597]\n",
      " [-0.53232395  1.84516978 -0.9935503 ]\n",
      " [ 0.54023217  0.58099406  0.38664901]]\n",
      "[[-0.93455727 -0.24435621 -0.46132724]\n",
      " [-0.78217091 -0.19324065 -1.08568474]\n",
      " [-0.46699268  0.56671625 -1.17515175]\n",
      " ...\n",
      " [ 0.06058085  0.62460396 -1.83796701]\n",
      " [ 1.13759    -0.13678922  1.2201323 ]\n",
      " [-0.74000672 -0.42519048 -1.29706993]]\n",
      "[[1]\n",
      " [1]\n",
      " [1]\n",
      " ...\n",
      " [1]\n",
      " [0]\n",
      " [1]]\n"
     ]
    }
   ],
   "source": [
    "print(X_Test)  \n",
    "print(X)\n",
    "print(Y)"
   ]
  },
  {
   "cell_type": "code",
   "execution_count": 96,
   "metadata": {},
   "outputs": [],
   "source": [
    "def hypothesis(x,w,b):\n",
    "    #accepts input vector x,input vector theta(called weight w) and bais b\n",
    "    h=np.dot(x,w)+b\n",
    "    return sigmoid(h)\n",
    "\n",
    "def sigmoid(z):\n",
    "    return 1.0/(1.0+np.exp(-1.0*z))\n",
    "\n",
    "def error(y_true,x,w,b):\n",
    "    m=x.shape[0]\n",
    "    err=0.0\n",
    "    for i in range(m):\n",
    "        hx=hypothesis(x[i],w,b)\n",
    "        err+=y_true[i]*np.log2(hx)+(1-y_true[i])*np.log2(1-hx)\n",
    "    \n",
    "    return -err/m\n",
    "\n",
    "def get_grads(y_true,x,w,b):\n",
    "    grad_w=np.zeros(w.shape)\n",
    "    grad_b=0.0\n",
    "    m=x.shape[0]\n",
    "    \n",
    "    \n",
    "    for i in range(m):\n",
    "        hx=hypothesis(x[i],w,b)\n",
    "        \n",
    "        grad_w+=(y_true[i]-hx)*x[i]\n",
    "        grad_b+=(y_true[i]-hx)       #bcz x[0]=1\n",
    "        \n",
    "    grad_w/=m\n",
    "    grad_b/=m\n",
    "    \n",
    "    return [grad_w,grad_b]\n",
    "     \n",
    "#One iteration of gradient descent    \n",
    "def grad_descent(x,y_true,w,b,learning_rate=0.1):\n",
    "    \n",
    "    err=error(y_true,x,w,b)\n",
    "    [grad_w,grad_b]=get_grads(y_true,x,w,b)\n",
    "    \n",
    "    w =w +learning_rate*grad_w\n",
    "    b =b +learning_rate*grad_b\n",
    "    \n",
    "    return err,w,b\n",
    "    \n",
    "def predict(x,w,b):\n",
    "    \n",
    "    confidence=hypothesis(x,w,b)\n",
    "    if confidence<0.5:\n",
    "        return 0\n",
    "    else:\n",
    "        return 1\n",
    "\n",
    "def get_acc(x_tst,y_tst,w,b):\n",
    "    y_pred=[]\n",
    "    \n",
    "    for i in range(y_tst.shape[0]):\n",
    "        p=predict(x_tst[i],w,b)\n",
    "        y_pred.append(p)\n",
    "        \n",
    "    y_pred=np.array(y_pred)\n",
    "    \n",
    "    return float(np.sum((y_pred==y_tst))/y_tst.shape[0])\n",
    "    \n",
    "    "
   ]
  },
  {
   "cell_type": "code",
   "execution_count": 97,
   "metadata": {},
   "outputs": [
    {
     "name": "stdout",
     "output_type": "stream",
     "text": [
      "(3000, 3)\n",
      "(3000, 1)\n"
     ]
    }
   ],
   "source": [
    "#Splitting given data into test and train\n",
    "print(X.shape)\n",
    "print(Y.shape)"
   ]
  },
  {
   "cell_type": "code",
   "execution_count": 98,
   "metadata": {},
   "outputs": [
    {
     "name": "stdout",
     "output_type": "stream",
     "text": [
      "(2400, 3) (600, 3)\n",
      "(2400, 1) (600, 1)\n"
     ]
    }
   ],
   "source": [
    "split = int(0.8*X.shape[0])\n",
    "X_train = X[:split,:]\n",
    "X_test = X[split:,:]\n",
    "\n",
    "Y_train = Y[:split,:]\n",
    "Y_test  = Y[split:,:]\n",
    "\n",
    "print(X_train.shape,X_test.shape)\n",
    "print(Y_train.shape,Y_test.shape)"
   ]
  },
  {
   "cell_type": "code",
   "execution_count": 99,
   "metadata": {},
   "outputs": [],
   "source": [
    "loss=[]\n",
    "acc=[]\n",
    "\n",
    "W=2*np.random.random((X_train.shape[1],))\n",
    "b=5*np.random.random()\n"
   ]
  },
  {
   "cell_type": "code",
   "execution_count": 100,
   "metadata": {},
   "outputs": [],
   "source": [
    "for i in range(100):\n",
    "    l,W,b=grad_descent(X_train,Y_train,W,b,learning_rate=0.5)\n",
    "    acc.append(get_acc(X_test,Y_test,W,b))\n",
    "    loss.append(l)"
   ]
  },
  {
   "cell_type": "code",
   "execution_count": 101,
   "metadata": {},
   "outputs": [
    {
     "data": {
      "image/png": "[encoded data removed]",
      "text/plain": [
       "<Figure size 432x288 with 1 Axes>"
      ]
     },
     "metadata": {
      "needs_background": "light"
     },
     "output_type": "display_data"
    }
   ],
   "source": [
    "#print(loss)\n",
    "plt.plot(loss)\n",
    "plt.xlabel(\"Time/Epoch\")\n",
    "plt.ylabel(\"Negative of Log Likelihood\")\n",
    "plt.show()"
   ]
  },
  {
   "cell_type": "code",
   "execution_count": 102,
   "metadata": {},
   "outputs": [
    {
     "data": {
      "image/png": "[encoded data removed]",
      "text/plain": [
       "<Figure size 432x288 with 1 Axes>"
      ]
     },
     "metadata": {
      "needs_background": "light"
     },
     "output_type": "display_data"
    }
   ],
   "source": [
    "plt.plot(acc)\n",
    "plt.show()\n"
   ]
  },
  {
   "cell_type": "code",
   "execution_count": 103,
   "metadata": {},
   "outputs": [
    {
     "name": "stdout",
     "output_type": "stream",
     "text": [
      "303.4\n"
     ]
    }
   ],
   "source": [
    "print(acc[-1])"
   ]
  },
  {
   "cell_type": "code",
   "execution_count": 104,
   "metadata": {},
   "outputs": [
    {
     "name": "stdout",
     "output_type": "stream",
     "text": [
      "[-2.48618487  1.37454344 -2.36348708] [-0.33892242]\n"
     ]
    }
   ],
   "source": [
    "print(W,b)"
   ]
  },
  {
   "cell_type": "code",
   "execution_count": 115,
   "metadata": {},
   "outputs": [
    {
     "name": "stdout",
     "output_type": "stream",
     "text": [
      "[1 1 0 1 1]\n"
     ]
    }
   ],
   "source": [
    "X_Test=pd.read_csv('Logistic_X_Test.csv')\n",
    "X_Test=np.array(X_Test)\n",
    "\n",
    "res=[]\n",
    "for i in X_Test:\n",
    "    p=predict(i,W,b)\n",
    "    res.append(p)\n",
    "    \n",
    "type(res)\n",
    "res=np.array(res)\n",
    "print(res[:5])"
   ]
  },
  {
   "cell_type": "code",
   "execution_count": 116,
   "metadata": {},
   "outputs": [
    {
     "data": {
      "text/html": [
       "<div>\n",
       "<style scoped>\n",
       "    .dataframe tbody tr th:only-of-type {\n",
       "        vertical-align: middle;\n",
       "    }\n",
       "\n",
       "    .dataframe tbody tr th {\n",
       "        vertical-align: top;\n",
       "    }\n",
       "\n",
       "    .dataframe thead th {\n",
       "        text-align: right;\n",
       "    }\n",
       "</style>\n",
       "<table border=\"1\" class=\"dataframe\">\n",
       "  <thead>\n",
       "    <tr style=\"text-align: right;\">\n",
       "      <th></th>\n",
       "      <th>label</th>\n",
       "    </tr>\n",
       "  </thead>\n",
       "  <tbody>\n",
       "    <tr>\n",
       "      <th>0</th>\n",
       "      <td>1</td>\n",
       "    </tr>\n",
       "    <tr>\n",
       "      <th>1</th>\n",
       "      <td>1</td>\n",
       "    </tr>\n",
       "    <tr>\n",
       "      <th>2</th>\n",
       "      <td>0</td>\n",
       "    </tr>\n",
       "    <tr>\n",
       "      <th>3</th>\n",
       "      <td>1</td>\n",
       "    </tr>\n",
       "    <tr>\n",
       "      <th>4</th>\n",
       "      <td>1</td>\n",
       "    </tr>\n",
       "  </tbody>\n",
       "</table>\n",
       "</div>"
      ],
      "text/plain": [
       "   label\n",
       "0      1\n",
       "1      1\n",
       "2      0\n",
       "3      1\n",
       "4      1"
      ]
     },
     "execution_count": 116,
     "metadata": {},
     "output_type": "execute_result"
    }
   ],
   "source": [
    "df=pd.DataFrame(data=res,columns=[\"label\"])\n",
    "df.head()"
   ]
  },
  {
   "cell_type": "code",
   "execution_count": 117,
   "metadata": {},
   "outputs": [],
   "source": [
    "df.to_csv('ChemicalsPredicted.csv',index=False)"
   ]
  },
  {
   "cell_type": "code",
   "execution_count": null,
   "metadata": {},
   "outputs": [],
   "source": []
  },
  {
   "cell_type": "code",
   "execution_count": null,
   "metadata": {},
   "outputs": [],
   "source": []
  }
 ],
 "metadata": {
  "kernelspec": {
   "display_name": "Python 3",
   "language": "python",
   "name": "python3"
  },
  "language_info": {
   "codemirror_mode": {
    "name": "ipython",
    "version": 3
   },
   "file_extension": ".py",
   "mimetype": "text/x-python",
   "name": "python",
   "nbconvert_exporter": "python",
   "pygments_lexer": "ipython3",
   "version": "3.7.6"
  }
 },
 "nbformat": 4,
 "nbformat_minor": 4
}
