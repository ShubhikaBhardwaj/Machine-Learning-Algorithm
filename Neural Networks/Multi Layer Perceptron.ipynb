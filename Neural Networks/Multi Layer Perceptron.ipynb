{
 "cells": [
  {
   "cell_type": "markdown",
   "metadata": {},
   "source": [
    "## Implementation \n",
    "* Two layers -> 1 Hidden + 1 Output\n",
    "* Multi-layer perceptron/ feed forward net / deep forward net"
   ]
  },
  {
   "cell_type": "code",
   "execution_count": 2,
   "metadata": {},
   "outputs": [],
   "source": [
    "import numpy as np"
   ]
  },
  {
   "cell_type": "code",
   "execution_count": 3,
   "metadata": {},
   "outputs": [],
   "source": [
    "#Model Parameters\n",
    "input_size=2 #no_of_features\n",
    "layers=[4,3]   #no of neurons in the first and the second layer\n",
    "output_size=2"
   ]
  },
  {
   "cell_type": "code",
   "execution_count": 4,
   "metadata": {},
   "outputs": [],
   "source": [
    "class NeuralNetwork:\n",
    "    \n",
    "    def _init_(self,input_size,layers,output_size):\n",
    "        np.random.seed(0)\n",
    "        \n",
    "        model={}  #Dictionary\n",
    "        \n",
    "        #First layer\n",
    "        model['W1']=np.random.randn(input_size,layers[0])    #2X4 matrix\n",
    "        model['b1']=np.zeros((1,layers[0]))\n",
    "        \n",
    "         #Second layer\n",
    "        model['W2']=np.random.randn(layers[0],layers[1])    #2X4 matrix\n",
    "        model['b2']=np.zeros((1,layers[1]))\n",
    "        \n",
    "         #Third/Output layer\n",
    "        model['W3']=np.random.randn(layers[1],layers[2])    #2X4 matrix\n",
    "        model['b3']=np.zeros((1,layers[2]))\n",
    "        \n",
    "        self.model=model\n",
    "        \n",
    "        \n",
    "        \n",
    "       \n",
    "       \n",
    "    \n",
    "        \n",
    "    \n",
    "    \n",
    "    \n",
    "    \n",
    "    \n",
    "    \n",
    "    \n",
    "    \n",
    "    \n",
    "    \n",
    "    \n",
    "    "
   ]
  },
  {
   "cell_type": "code",
   "execution_count": null,
   "metadata": {},
   "outputs": [],
   "source": []
  },
  {
   "cell_type": "code",
   "execution_count": null,
   "metadata": {},
   "outputs": [],
   "source": []
  },
  {
   "cell_type": "code",
   "execution_count": null,
   "metadata": {},
   "outputs": [],
   "source": []
  },
  {
   "cell_type": "code",
   "execution_count": null,
   "metadata": {},
   "outputs": [],
   "source": []
  }
 ],
 "metadata": {
  "kernelspec": {
   "display_name": "Python 3",
   "language": "python",
   "name": "python3"
  },
  "language_info": {
   "codemirror_mode": {
    "name": "ipython",
    "version": 3
   },
   "file_extension": ".py",
   "mimetype": "text/x-python",
   "name": "python",
   "nbconvert_exporter": "python",
   "pygments_lexer": "ipython3",
   "version": "3.7.6"
  }
 },
 "nbformat": 4,
 "nbformat_minor": 4
}
