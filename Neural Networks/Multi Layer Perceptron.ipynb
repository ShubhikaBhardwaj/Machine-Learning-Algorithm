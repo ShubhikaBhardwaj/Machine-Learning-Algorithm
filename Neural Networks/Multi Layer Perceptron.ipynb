{
 "cells": [
  {
   "cell_type": "markdown",
   "metadata": {},
   "source": [
    "## Implementation \n",
    "* Two layers -> 1 Hidden + 1 Output\n",
    "* Multi-layer perceptron/ feed forward net / deep forward net"
   ]
  },
  {
   "cell_type": "code",
   "execution_count": 2,
   "metadata": {},
   "outputs": [],
   "source": [
    "import numpy as np"
   ]
  },
  {
   "cell_type": "code",
   "execution_count": 3,
   "metadata": {},
   "outputs": [],
   "source": [
    "#Model Parameters\n",
    "input_size=2 #no_of_features\n",
    "layers=[4,3]   #no of neurons in the first and the second layer\n",
    "output_size=2"
   ]
  },
  {
   "cell_type": "code",
   "execution_count": 5,
   "metadata": {},
   "outputs": [],
   "source": [
    "def softmax(a):\n",
    "    e_pa=np.exp(a)  #Vector if a=vector\n",
    "    ans=e_pa/np.sum(e_pa,axis=1,keepdims=True)  #axis=1 for columns\n",
    "    #keepdims preserves the shape\n",
    "    return ans\n",
    "    \n",
    "    "
   ]
  },
  {
   "cell_type": "code",
   "execution_count": 10,
   "metadata": {},
   "outputs": [
    {
     "name": "stdout",
     "output_type": "stream",
     "text": [
      "[[0.5 0.5]\n",
      " [0.5 0.5]]\n"
     ]
    }
   ],
   "source": [
    "a=np.array([[10,10],[20,20]])\n",
    "a_=softmax(a)\n",
    "print(a_)"
   ]
  },
  {
   "cell_type": "code",
   "execution_count": 15,
   "metadata": {},
   "outputs": [
    {
     "name": "stdout",
     "output_type": "stream",
     "text": [
      "[[4.53978687e-05 9.99954602e-01]]\n"
     ]
    }
   ],
   "source": [
    "a=np.array([[10,20]])\n",
    "a_=softmax(a)\n",
    "print(a_)"
   ]
  },
  {
   "cell_type": "code",
   "execution_count": 4,
   "metadata": {},
   "outputs": [],
   "source": [
    "class NeuralNetwork:\n",
    "    \n",
    "    def _init_(self,input_size,layers,output_size):\n",
    "        np.random.seed(0)\n",
    "        \n",
    "        model={}  #Dictionary\n",
    "        \n",
    "        #First layer\n",
    "        model['W1']=np.random.randn(input_size,layers[0])    #2X4 matrix\n",
    "        model['b1']=np.zeros((1,layers[0]))\n",
    "        \n",
    "         #Second layer\n",
    "        model['W2']=np.random.randn(layers[0],layers[1])    #2X4 matrix\n",
    "        model['b2']=np.zeros((1,layers[1]))\n",
    "        \n",
    "         #Third/Output layer\n",
    "        model['W3']=np.random.randn(layers[1],layers[2])    #2X4 matrix\n",
    "        model['b3']=np.zeros((1,layers[2]))\n",
    "        \n",
    "        self.model=model\n",
    "        \n",
    "    def forward(self,x):\n",
    "        w1,w2,w3=self.model['W1'],self.model['W2'],self.model['W3']\n",
    "        b1,b2,b3=self.model['b1'],self.model['b2'],self.model['b3']\n",
    "        \n",
    "        \n",
    "        z1=np.dot(x,w1)+b1\n",
    "        a1=np.tanh(z1)   #Instead of sigmoid, Range=[-1,1]\n",
    "        \n",
    "        z2=np.dot(a1,w2)+b2\n",
    "        a2=np.tanh(z2)\n",
    "        \n",
    "        z3=np.dot(a2,w3)+b3\n",
    "        y_=softmax(z3)\n",
    "        \n",
    "        \n",
    "        \n",
    "        \n",
    "        \n",
    "       \n",
    "       \n",
    "    \n",
    "        \n",
    "    \n",
    "    \n",
    "    \n",
    "    \n",
    "    \n",
    "    \n",
    "    \n",
    "    \n",
    "    \n",
    "    \n",
    "    \n",
    "    "
   ]
  },
  {
   "cell_type": "code",
   "execution_count": null,
   "metadata": {},
   "outputs": [],
   "source": []
  },
  {
   "cell_type": "code",
   "execution_count": null,
   "metadata": {},
   "outputs": [],
   "source": []
  },
  {
   "cell_type": "code",
   "execution_count": null,
   "metadata": {},
   "outputs": [],
   "source": []
  },
  {
   "cell_type": "code",
   "execution_count": null,
   "metadata": {},
   "outputs": [],
   "source": []
  }
 ],
 "metadata": {
  "kernelspec": {
   "display_name": "Python 3",
   "language": "python",
   "name": "python3"
  },
  "language_info": {
   "codemirror_mode": {
    "name": "ipython",
    "version": 3
   },
   "file_extension": ".py",
   "mimetype": "text/x-python",
   "name": "python",
   "nbconvert_exporter": "python",
   "pygments_lexer": "ipython3",
   "version": "3.7.6"
  }
 },
 "nbformat": 4,
 "nbformat_minor": 4
}
