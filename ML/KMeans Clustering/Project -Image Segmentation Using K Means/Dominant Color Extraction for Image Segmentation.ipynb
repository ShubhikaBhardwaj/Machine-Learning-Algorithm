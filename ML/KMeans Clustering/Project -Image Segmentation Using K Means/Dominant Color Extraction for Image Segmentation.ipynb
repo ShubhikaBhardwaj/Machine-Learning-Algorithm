{
 "cells": [
  {
   "cell_type": "markdown",
   "metadata": {},
   "source": [
    "\n",
    "## Dominant Color Extraction for Image Segmentation\n",
    "* #### Image Segmentation\n",
    "* Segmentation partitions an image into regions having similar visual appearance corresponding to parts of objects\n",
    "* We will try to extract the most dominant 'K' Colors using K-Means\n",
    "* We can apply K-Means with each pixel will reassigned to the closest of the K Colors, leading to segmentation"
   ]
  },
  {
   "attachments": {},
   "cell_type": "markdown",
   "metadata": {},
   "source": [
    "![](ImageSegmentation.png)"
   ]
  },
  {
   "cell_type": "code",
   "execution_count": null,
   "metadata": {},
   "outputs": [],
   "source": []
  }
 ],
 "metadata": {
  "kernelspec": {
   "display_name": "Python 3",
   "language": "python",
   "name": "python3"
  },
  "language_info": {
   "codemirror_mode": {
    "name": "ipython",
    "version": 3
   },
   "file_extension": ".py",
   "mimetype": "text/x-python",
   "name": "python",
   "nbconvert_exporter": "python",
   "pygments_lexer": "ipython3",
   "version": "3.8.2"
  }
 },
 "nbformat": 4,
 "nbformat_minor": 4
}
