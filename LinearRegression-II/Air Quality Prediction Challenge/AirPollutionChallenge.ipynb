{
 "cells": [
  {
   "cell_type": "code",
   "execution_count": 1,
   "metadata": {},
   "outputs": [],
   "source": [
    "import pandas as pd\n",
    "import matplotlib.pyplot as plt\n",
    "import numpy as np"
   ]
  },
  {
   "cell_type": "code",
   "execution_count": 2,
   "metadata": {},
   "outputs": [],
   "source": [
    "df=pd.read_csv('Train.csv')"
   ]
  },
  {
   "cell_type": "code",
   "execution_count": 4,
   "metadata": {},
   "outputs": [
    {
     "data": {
      "text/html": [
       "<div>\n",
       "<style scoped>\n",
       "    .dataframe tbody tr th:only-of-type {\n",
       "        vertical-align: middle;\n",
       "    }\n",
       "\n",
       "    .dataframe tbody tr th {\n",
       "        vertical-align: top;\n",
       "    }\n",
       "\n",
       "    .dataframe thead th {\n",
       "        text-align: right;\n",
       "    }\n",
       "</style>\n",
       "<table border=\"1\" class=\"dataframe\">\n",
       "  <thead>\n",
       "    <tr style=\"text-align: right;\">\n",
       "      <th></th>\n",
       "      <th>feature_1</th>\n",
       "      <th>feature_2</th>\n",
       "      <th>feature_3</th>\n",
       "      <th>feature_4</th>\n",
       "      <th>feature_5</th>\n",
       "      <th>target</th>\n",
       "    </tr>\n",
       "  </thead>\n",
       "  <tbody>\n",
       "    <tr>\n",
       "      <th>0</th>\n",
       "      <td>0.293416</td>\n",
       "      <td>-0.945599</td>\n",
       "      <td>-0.421105</td>\n",
       "      <td>0.406816</td>\n",
       "      <td>0.525662</td>\n",
       "      <td>-82.154667</td>\n",
       "    </tr>\n",
       "    <tr>\n",
       "      <th>1</th>\n",
       "      <td>-0.836084</td>\n",
       "      <td>-0.189228</td>\n",
       "      <td>-0.776403</td>\n",
       "      <td>-1.053831</td>\n",
       "      <td>0.597997</td>\n",
       "      <td>-48.897960</td>\n",
       "    </tr>\n",
       "    <tr>\n",
       "      <th>2</th>\n",
       "      <td>0.236425</td>\n",
       "      <td>0.132836</td>\n",
       "      <td>-0.147723</td>\n",
       "      <td>0.699854</td>\n",
       "      <td>-0.187364</td>\n",
       "      <td>77.270371</td>\n",
       "    </tr>\n",
       "    <tr>\n",
       "      <th>3</th>\n",
       "      <td>0.175312</td>\n",
       "      <td>0.143194</td>\n",
       "      <td>-0.581111</td>\n",
       "      <td>-0.122107</td>\n",
       "      <td>-1.292168</td>\n",
       "      <td>-2.988581</td>\n",
       "    </tr>\n",
       "    <tr>\n",
       "      <th>4</th>\n",
       "      <td>-1.693011</td>\n",
       "      <td>0.542712</td>\n",
       "      <td>-2.798729</td>\n",
       "      <td>-0.686723</td>\n",
       "      <td>1.244077</td>\n",
       "      <td>-37.596722</td>\n",
       "    </tr>\n",
       "  </tbody>\n",
       "</table>\n",
       "</div>"
      ],
      "text/plain": [
       "   feature_1  feature_2  feature_3  feature_4  feature_5     target\n",
       "0   0.293416  -0.945599  -0.421105   0.406816   0.525662 -82.154667\n",
       "1  -0.836084  -0.189228  -0.776403  -1.053831   0.597997 -48.897960\n",
       "2   0.236425   0.132836  -0.147723   0.699854  -0.187364  77.270371\n",
       "3   0.175312   0.143194  -0.581111  -0.122107  -1.292168  -2.988581\n",
       "4  -1.693011   0.542712  -2.798729  -0.686723   1.244077 -37.596722"
      ]
     },
     "execution_count": 4,
     "metadata": {},
     "output_type": "execute_result"
    }
   ],
   "source": [
    "df.head()"
   ]
  },
  {
   "cell_type": "code",
   "execution_count": 5,
   "metadata": {},
   "outputs": [
    {
     "data": {
      "text/plain": [
       "(1600, 6)"
      ]
     },
     "execution_count": 5,
     "metadata": {},
     "output_type": "execute_result"
    }
   ],
   "source": [
    "df.shape"
   ]
  },
  {
   "cell_type": "code",
   "execution_count": 6,
   "metadata": {},
   "outputs": [
    {
     "data": {
      "text/html": [
       "<div>\n",
       "<style scoped>\n",
       "    .dataframe tbody tr th:only-of-type {\n",
       "        vertical-align: middle;\n",
       "    }\n",
       "\n",
       "    .dataframe tbody tr th {\n",
       "        vertical-align: top;\n",
       "    }\n",
       "\n",
       "    .dataframe thead th {\n",
       "        text-align: right;\n",
       "    }\n",
       "</style>\n",
       "<table border=\"1\" class=\"dataframe\">\n",
       "  <thead>\n",
       "    <tr style=\"text-align: right;\">\n",
       "      <th></th>\n",
       "      <th>feature_1</th>\n",
       "      <th>feature_2</th>\n",
       "      <th>feature_3</th>\n",
       "      <th>feature_4</th>\n",
       "      <th>feature_5</th>\n",
       "      <th>target</th>\n",
       "    </tr>\n",
       "  </thead>\n",
       "  <tbody>\n",
       "    <tr>\n",
       "      <th>count</th>\n",
       "      <td>1600.000000</td>\n",
       "      <td>1600.000000</td>\n",
       "      <td>1600.000000</td>\n",
       "      <td>1600.000000</td>\n",
       "      <td>1600.000000</td>\n",
       "      <td>1600.000000</td>\n",
       "    </tr>\n",
       "    <tr>\n",
       "      <th>mean</th>\n",
       "      <td>0.004114</td>\n",
       "      <td>-0.027604</td>\n",
       "      <td>-0.044459</td>\n",
       "      <td>-0.042408</td>\n",
       "      <td>0.012005</td>\n",
       "      <td>0.318835</td>\n",
       "    </tr>\n",
       "    <tr>\n",
       "      <th>std</th>\n",
       "      <td>0.997338</td>\n",
       "      <td>1.021776</td>\n",
       "      <td>1.011768</td>\n",
       "      <td>1.017189</td>\n",
       "      <td>0.978654</td>\n",
       "      <td>110.741562</td>\n",
       "    </tr>\n",
       "    <tr>\n",
       "      <th>min</th>\n",
       "      <td>-3.380125</td>\n",
       "      <td>-3.314844</td>\n",
       "      <td>-3.153118</td>\n",
       "      <td>-3.250169</td>\n",
       "      <td>-2.851707</td>\n",
       "      <td>-379.829794</td>\n",
       "    </tr>\n",
       "    <tr>\n",
       "      <th>25%</th>\n",
       "      <td>-0.647165</td>\n",
       "      <td>-0.705030</td>\n",
       "      <td>-0.706385</td>\n",
       "      <td>-0.709504</td>\n",
       "      <td>-0.615880</td>\n",
       "      <td>-71.897040</td>\n",
       "    </tr>\n",
       "    <tr>\n",
       "      <th>50%</th>\n",
       "      <td>-0.000360</td>\n",
       "      <td>-0.043769</td>\n",
       "      <td>-0.041272</td>\n",
       "      <td>-0.029756</td>\n",
       "      <td>-0.013527</td>\n",
       "      <td>-0.610665</td>\n",
       "    </tr>\n",
       "    <tr>\n",
       "      <th>75%</th>\n",
       "      <td>0.682118</td>\n",
       "      <td>0.645442</td>\n",
       "      <td>0.639130</td>\n",
       "      <td>0.646290</td>\n",
       "      <td>0.650089</td>\n",
       "      <td>71.226603</td>\n",
       "    </tr>\n",
       "    <tr>\n",
       "      <th>max</th>\n",
       "      <td>3.287205</td>\n",
       "      <td>3.438895</td>\n",
       "      <td>3.216176</td>\n",
       "      <td>2.985410</td>\n",
       "      <td>3.321770</td>\n",
       "      <td>337.643014</td>\n",
       "    </tr>\n",
       "  </tbody>\n",
       "</table>\n",
       "</div>"
      ],
      "text/plain": [
       "         feature_1    feature_2    feature_3    feature_4    feature_5  \\\n",
       "count  1600.000000  1600.000000  1600.000000  1600.000000  1600.000000   \n",
       "mean      0.004114    -0.027604    -0.044459    -0.042408     0.012005   \n",
       "std       0.997338     1.021776     1.011768     1.017189     0.978654   \n",
       "min      -3.380125    -3.314844    -3.153118    -3.250169    -2.851707   \n",
       "25%      -0.647165    -0.705030    -0.706385    -0.709504    -0.615880   \n",
       "50%      -0.000360    -0.043769    -0.041272    -0.029756    -0.013527   \n",
       "75%       0.682118     0.645442     0.639130     0.646290     0.650089   \n",
       "max       3.287205     3.438895     3.216176     2.985410     3.321770   \n",
       "\n",
       "            target  \n",
       "count  1600.000000  \n",
       "mean      0.318835  \n",
       "std     110.741562  \n",
       "min    -379.829794  \n",
       "25%     -71.897040  \n",
       "50%      -0.610665  \n",
       "75%      71.226603  \n",
       "max     337.643014  "
      ]
     },
     "execution_count": 6,
     "metadata": {},
     "output_type": "execute_result"
    }
   ],
   "source": [
    "df.describe()"
   ]
  },
  {
   "cell_type": "code",
   "execution_count": 7,
   "metadata": {},
   "outputs": [
    {
     "data": {
      "text/html": [
       "<div>\n",
       "<style scoped>\n",
       "    .dataframe tbody tr th:only-of-type {\n",
       "        vertical-align: middle;\n",
       "    }\n",
       "\n",
       "    .dataframe tbody tr th {\n",
       "        vertical-align: top;\n",
       "    }\n",
       "\n",
       "    .dataframe thead th {\n",
       "        text-align: right;\n",
       "    }\n",
       "</style>\n",
       "<table border=\"1\" class=\"dataframe\">\n",
       "  <thead>\n",
       "    <tr style=\"text-align: right;\">\n",
       "      <th></th>\n",
       "      <th>feature_1</th>\n",
       "      <th>feature_2</th>\n",
       "      <th>feature_3</th>\n",
       "      <th>feature_4</th>\n",
       "      <th>feature_5</th>\n",
       "      <th>target</th>\n",
       "    </tr>\n",
       "  </thead>\n",
       "  <tbody>\n",
       "    <tr>\n",
       "      <th>0</th>\n",
       "      <td>0.293416</td>\n",
       "      <td>-0.945599</td>\n",
       "      <td>-0.421105</td>\n",
       "      <td>0.406816</td>\n",
       "      <td>0.525662</td>\n",
       "      <td>-82.154667</td>\n",
       "    </tr>\n",
       "    <tr>\n",
       "      <th>1</th>\n",
       "      <td>-0.836084</td>\n",
       "      <td>-0.189228</td>\n",
       "      <td>-0.776403</td>\n",
       "      <td>-1.053831</td>\n",
       "      <td>0.597997</td>\n",
       "      <td>-48.897960</td>\n",
       "    </tr>\n",
       "    <tr>\n",
       "      <th>2</th>\n",
       "      <td>0.236425</td>\n",
       "      <td>0.132836</td>\n",
       "      <td>-0.147723</td>\n",
       "      <td>0.699854</td>\n",
       "      <td>-0.187364</td>\n",
       "      <td>77.270371</td>\n",
       "    </tr>\n",
       "    <tr>\n",
       "      <th>3</th>\n",
       "      <td>0.175312</td>\n",
       "      <td>0.143194</td>\n",
       "      <td>-0.581111</td>\n",
       "      <td>-0.122107</td>\n",
       "      <td>-1.292168</td>\n",
       "      <td>-2.988581</td>\n",
       "    </tr>\n",
       "    <tr>\n",
       "      <th>4</th>\n",
       "      <td>-1.693011</td>\n",
       "      <td>0.542712</td>\n",
       "      <td>-2.798729</td>\n",
       "      <td>-0.686723</td>\n",
       "      <td>1.244077</td>\n",
       "      <td>-37.596722</td>\n",
       "    </tr>\n",
       "    <tr>\n",
       "      <th>...</th>\n",
       "      <td>...</td>\n",
       "      <td>...</td>\n",
       "      <td>...</td>\n",
       "      <td>...</td>\n",
       "      <td>...</td>\n",
       "      <td>...</td>\n",
       "    </tr>\n",
       "    <tr>\n",
       "      <th>1595</th>\n",
       "      <td>-0.274961</td>\n",
       "      <td>-0.820634</td>\n",
       "      <td>-0.757173</td>\n",
       "      <td>-0.147555</td>\n",
       "      <td>-0.307149</td>\n",
       "      <td>-80.110012</td>\n",
       "    </tr>\n",
       "    <tr>\n",
       "      <th>1596</th>\n",
       "      <td>-0.076099</td>\n",
       "      <td>0.255257</td>\n",
       "      <td>0.290054</td>\n",
       "      <td>1.796036</td>\n",
       "      <td>0.340350</td>\n",
       "      <td>118.315601</td>\n",
       "    </tr>\n",
       "    <tr>\n",
       "      <th>1597</th>\n",
       "      <td>1.044177</td>\n",
       "      <td>-0.899206</td>\n",
       "      <td>1.730399</td>\n",
       "      <td>-1.871057</td>\n",
       "      <td>0.442520</td>\n",
       "      <td>-107.510508</td>\n",
       "    </tr>\n",
       "    <tr>\n",
       "      <th>1598</th>\n",
       "      <td>-1.269173</td>\n",
       "      <td>-0.005052</td>\n",
       "      <td>1.857669</td>\n",
       "      <td>-1.080365</td>\n",
       "      <td>0.736334</td>\n",
       "      <td>-47.341558</td>\n",
       "    </tr>\n",
       "    <tr>\n",
       "      <th>1599</th>\n",
       "      <td>-1.884000</td>\n",
       "      <td>-0.849427</td>\n",
       "      <td>-1.452270</td>\n",
       "      <td>0.488613</td>\n",
       "      <td>1.459576</td>\n",
       "      <td>-115.939003</td>\n",
       "    </tr>\n",
       "  </tbody>\n",
       "</table>\n",
       "<p>1600 rows × 6 columns</p>\n",
       "</div>"
      ],
      "text/plain": [
       "      feature_1  feature_2  feature_3  feature_4  feature_5      target\n",
       "0      0.293416  -0.945599  -0.421105   0.406816   0.525662  -82.154667\n",
       "1     -0.836084  -0.189228  -0.776403  -1.053831   0.597997  -48.897960\n",
       "2      0.236425   0.132836  -0.147723   0.699854  -0.187364   77.270371\n",
       "3      0.175312   0.143194  -0.581111  -0.122107  -1.292168   -2.988581\n",
       "4     -1.693011   0.542712  -2.798729  -0.686723   1.244077  -37.596722\n",
       "...         ...        ...        ...        ...        ...         ...\n",
       "1595  -0.274961  -0.820634  -0.757173  -0.147555  -0.307149  -80.110012\n",
       "1596  -0.076099   0.255257   0.290054   1.796036   0.340350  118.315601\n",
       "1597   1.044177  -0.899206   1.730399  -1.871057   0.442520 -107.510508\n",
       "1598  -1.269173  -0.005052   1.857669  -1.080365   0.736334  -47.341558\n",
       "1599  -1.884000  -0.849427  -1.452270   0.488613   1.459576 -115.939003\n",
       "\n",
       "[1600 rows x 6 columns]"
      ]
     },
     "execution_count": 7,
     "metadata": {},
     "output_type": "execute_result"
    }
   ],
   "source": [
    "df"
   ]
  },
  {
   "cell_type": "code",
   "execution_count": 11,
   "metadata": {},
   "outputs": [],
   "source": [
    "df=df.to_numpy()"
   ]
  },
  {
   "cell_type": "code",
   "execution_count": 14,
   "metadata": {},
   "outputs": [
    {
     "data": {
      "text/plain": [
       "numpy.ndarray"
      ]
     },
     "execution_count": 14,
     "metadata": {},
     "output_type": "execute_result"
    }
   ],
   "source": [
    "type(df)"
   ]
  },
  {
   "cell_type": "code",
   "execution_count": 15,
   "metadata": {},
   "outputs": [],
   "source": [
    "x=df[:,:5]\n",
    "y=df[:,5]"
   ]
  },
  {
   "cell_type": "code",
   "execution_count": 16,
   "metadata": {},
   "outputs": [
    {
     "data": {
      "text/plain": [
       "array([[ 0.29341624, -0.94559871, -0.42110515,  0.40681602,  0.52566183],\n",
       "       [-0.83608408, -0.18922804, -0.77640262, -1.05383124,  0.59799685],\n",
       "       [ 0.23642511,  0.13283602, -0.14772298,  0.69985396, -0.18736416],\n",
       "       ...,\n",
       "       [ 1.04417694, -0.89920649,  1.73039905, -1.87105676,  0.44251965],\n",
       "       [-1.2691729 , -0.00505216,  1.85766873, -1.08036482,  0.73633394],\n",
       "       [-1.88400025, -0.84942743, -1.45227035,  0.48861308,  1.4595758 ]])"
      ]
     },
     "execution_count": 16,
     "metadata": {},
     "output_type": "execute_result"
    }
   ],
   "source": [
    "x"
   ]
  },
  {
   "cell_type": "code",
   "execution_count": 17,
   "metadata": {},
   "outputs": [
    {
     "data": {
      "text/plain": [
       "array([ -82.15466656,  -48.89796018,   77.2703707 , ..., -107.51050797,\n",
       "        -47.34155781, -115.93900296])"
      ]
     },
     "execution_count": 17,
     "metadata": {},
     "output_type": "execute_result"
    }
   ],
   "source": [
    "y"
   ]
  },
  {
   "cell_type": "code",
   "execution_count": 18,
   "metadata": {},
   "outputs": [
    {
     "data": {
      "text/plain": [
       "numpy.ndarray"
      ]
     },
     "execution_count": 18,
     "metadata": {},
     "output_type": "execute_result"
    }
   ],
   "source": [
    "type(x)"
   ]
  },
  {
   "cell_type": "code",
   "execution_count": 19,
   "metadata": {},
   "outputs": [
    {
     "data": {
      "text/plain": [
       "numpy.ndarray"
      ]
     },
     "execution_count": 19,
     "metadata": {},
     "output_type": "execute_result"
    }
   ],
   "source": [
    "type(y)"
   ]
  },
  {
   "cell_type": "code",
   "execution_count": 20,
   "metadata": {},
   "outputs": [],
   "source": [
    "#Normalisation\n",
    "u=np.mean(x,axis=0)\n",
    "std=np.std(x,axis=0)\n",
    "\n",
    "x=(x-u)/std\n"
   ]
  },
  {
   "cell_type": "code",
   "execution_count": 21,
   "metadata": {},
   "outputs": [
    {
     "name": "stdout",
     "output_type": "stream",
     "text": [
      "[[ 0.29016495 -0.89871183 -0.37238147  0.44177059  0.52502448]\n",
      " [-0.84270473 -0.15822922 -0.72365639 -0.99464217  0.59896038]\n",
      " [ 0.23300381  0.15706968 -0.10209444  0.72994655 -0.20378187]\n",
      " ...\n",
      " [ 1.0431652  -0.8532941   1.75476416 -1.79830858  0.44004223]\n",
      " [-1.27708547  0.02207793  1.88059294 -1.0207355   0.74035908]\n",
      " [-1.89374689 -0.80456069 -1.39187219  0.52221049  1.47960738]]\n"
     ]
    }
   ],
   "source": [
    "print(x)"
   ]
  },
  {
   "cell_type": "code",
   "execution_count": 24,
   "metadata": {},
   "outputs": [
    {
     "data": {
      "image/png": "[encoded data removed]",
      "text/plain": [
       "<Figure size 576x396 with 1 Axes>"
      ]
     },
     "metadata": {},
     "output_type": "display_data"
    }
   ],
   "source": [
    "plt.style.use('seaborn')\n",
    "plt.scatter(x[:,0],y,color='red')\n",
    "plt.show()"
   ]
  },
  {
   "cell_type": "code",
   "execution_count": 25,
   "metadata": {},
   "outputs": [
    {
     "data": {
      "image/png": "[encoded data removed]",
      "text/plain": [
       "<Figure size 576x396 with 1 Axes>"
      ]
     },
     "metadata": {},
     "output_type": "display_data"
    }
   ],
   "source": [
    "plt.style.use('seaborn')\n",
    "plt.scatter(x[:,1],y,color='orange')\n",
    "plt.show()"
   ]
  },
  {
   "cell_type": "code",
   "execution_count": 26,
   "metadata": {},
   "outputs": [],
   "source": [
    "def hypothesis(X,theta):\n",
    "    return np.dot(X,theta)\n",
    "\n",
    "def error(X,y,theta):\n",
    "    e=0.0\n",
    "    m=X.shape[0]\n",
    "    y_=hypothesis(X,theta)\n",
    "    e=np.sum((y-y_)**2)\n",
    "    \n",
    "    return e/m\n",
    "\n",
    "def gradient(X,y,theta):\n",
    "    m=X.shape[0]\n",
    "    y_=hypothesis(X,theta)\n",
    "    grad=np.dot(X.T,(y_-y))\n",
    "    \n",
    "    return grad/m\n",
    "    \n",
    "def gradient_descent(X,y,learning_rate=0.1,max_iters=300):\n",
    "    n=X.shape[1]\n",
    "    theta=np.zeros((n,))\n",
    "    error_list=[]\n",
    "    \n",
    "    for i in range(max_iters):\n",
    "        e=error(X,y,theta)\n",
    "        error_list.append(e)\n",
    "        \n",
    "        #Gradient Descent\n",
    "        grad=gradient(X,y,theta)\n",
    "        theta=theta-learning_rate*grad\n",
    "    return theta,error_list\n",
    "    "
   ]
  },
  {
   "cell_type": "code",
   "execution_count": 27,
   "metadata": {},
   "outputs": [],
   "source": [
    "theta,error_list=gradient_descent(x,y)"
   ]
  },
  {
   "cell_type": "code",
   "execution_count": 28,
   "metadata": {},
   "outputs": [
    {
     "name": "stdout",
     "output_type": "stream",
     "text": [
      "[29.59359198 94.65067706  8.37544469 45.52303635  2.46461552]\n"
     ]
    }
   ],
   "source": [
    "print(theta)"
   ]
  },
  {
   "cell_type": "code",
   "execution_count": 30,
   "metadata": {},
   "outputs": [
    {
     "data": {
      "image/png": "[encoded data removed]",
      "text/plain": [
       "<Figure size 576x396 with 1 Axes>"
      ]
     },
     "metadata": {},
     "output_type": "display_data"
    }
   ],
   "source": [
    "#print(error_list)\n",
    "plt.plot(error_list)\n",
    "plt.show()"
   ]
  },
  {
   "cell_type": "code",
   "execution_count": 32,
   "metadata": {},
   "outputs": [
    {
     "name": "stdout",
     "output_type": "stream",
     "text": [
      "[ -58.19079849  -89.77903095   53.63422403 ... -115.97686079  -64.59533226\n",
      " -116.43326433]\n"
     ]
    }
   ],
   "source": [
    "#Predictions\n",
    "y_=hypothesis(x,theta)\n",
    "print(y_)"
   ]
  },
  {
   "cell_type": "code",
   "execution_count": 33,
   "metadata": {},
   "outputs": [
    {
     "data": {
      "text/plain": [
       "(1600,)"
      ]
     },
     "execution_count": 33,
     "metadata": {},
     "output_type": "execute_result"
    }
   ],
   "source": [
    "y.shape"
   ]
  },
  {
   "cell_type": "code",
   "execution_count": 34,
   "metadata": {},
   "outputs": [
    {
     "data": {
      "text/plain": [
       "(1600, 5)"
      ]
     },
     "execution_count": 34,
     "metadata": {},
     "output_type": "execute_result"
    }
   ],
   "source": [
    "x.shape"
   ]
  },
  {
   "cell_type": "code",
   "execution_count": 35,
   "metadata": {},
   "outputs": [
    {
     "data": {
      "text/plain": [
       "(1600,)"
      ]
     },
     "execution_count": 35,
     "metadata": {},
     "output_type": "execute_result"
    }
   ],
   "source": [
    "y_.shape"
   ]
  },
  {
   "cell_type": "code",
   "execution_count": 37,
   "metadata": {},
   "outputs": [],
   "source": [
    "def r2_score(Y,Y_):\n",
    "    #Instead of a loop,use np.sum bcz it is faster\n",
    "    num=np.sum((Y-Y_)**2)\n",
    "    den=np.sum((Y-Y.mean())**2)\n",
    "    score=1-(num/den)\n",
    "    return score*100"
   ]
  },
  {
   "cell_type": "code",
   "execution_count": 38,
   "metadata": {},
   "outputs": [
    {
     "data": {
      "text/plain": [
       "96.60856726304088"
      ]
     },
     "execution_count": 38,
     "metadata": {},
     "output_type": "execute_result"
    }
   ],
   "source": [
    "r2_score(y,y_)"
   ]
  },
  {
   "cell_type": "code",
   "execution_count": 39,
   "metadata": {},
   "outputs": [
    {
     "data": {
      "text/plain": [
       "numpy.ndarray"
      ]
     },
     "execution_count": 39,
     "metadata": {},
     "output_type": "execute_result"
    }
   ],
   "source": [
    "type(y_)"
   ]
  },
  {
   "cell_type": "code",
   "execution_count": 40,
   "metadata": {},
   "outputs": [
    {
     "name": "stdout",
     "output_type": "stream",
     "text": [
      "[ -58.19079849  -89.77903095   53.63422403 ... -115.97686079  -64.59533226\n",
      " -116.43326433]\n"
     ]
    }
   ],
   "source": [
    "print(y_)"
   ]
  },
  {
   "cell_type": "code",
   "execution_count": 41,
   "metadata": {},
   "outputs": [],
   "source": [
    "X_test=pd.read_csv('Test.csv')"
   ]
  },
  {
   "cell_type": "code",
   "execution_count": 42,
   "metadata": {},
   "outputs": [
    {
     "data": {
      "text/html": [
       "<div>\n",
       "<style scoped>\n",
       "    .dataframe tbody tr th:only-of-type {\n",
       "        vertical-align: middle;\n",
       "    }\n",
       "\n",
       "    .dataframe tbody tr th {\n",
       "        vertical-align: top;\n",
       "    }\n",
       "\n",
       "    .dataframe thead th {\n",
       "        text-align: right;\n",
       "    }\n",
       "</style>\n",
       "<table border=\"1\" class=\"dataframe\">\n",
       "  <thead>\n",
       "    <tr style=\"text-align: right;\">\n",
       "      <th></th>\n",
       "      <th>feature_1</th>\n",
       "      <th>feature_2</th>\n",
       "      <th>feature_3</th>\n",
       "      <th>feature_4</th>\n",
       "      <th>feature_5</th>\n",
       "    </tr>\n",
       "  </thead>\n",
       "  <tbody>\n",
       "    <tr>\n",
       "      <th>0</th>\n",
       "      <td>1.015254</td>\n",
       "      <td>2.076209</td>\n",
       "      <td>-0.266435</td>\n",
       "      <td>-2.418088</td>\n",
       "      <td>-0.980503</td>\n",
       "    </tr>\n",
       "    <tr>\n",
       "      <th>1</th>\n",
       "      <td>-0.375021</td>\n",
       "      <td>0.953185</td>\n",
       "      <td>0.626719</td>\n",
       "      <td>0.704406</td>\n",
       "      <td>-0.355489</td>\n",
       "    </tr>\n",
       "    <tr>\n",
       "      <th>2</th>\n",
       "      <td>-1.024452</td>\n",
       "      <td>0.962991</td>\n",
       "      <td>-0.407942</td>\n",
       "      <td>-1.861274</td>\n",
       "      <td>0.455201</td>\n",
       "    </tr>\n",
       "    <tr>\n",
       "      <th>3</th>\n",
       "      <td>-2.489841</td>\n",
       "      <td>0.544802</td>\n",
       "      <td>0.601219</td>\n",
       "      <td>-0.607021</td>\n",
       "      <td>-1.314286</td>\n",
       "    </tr>\n",
       "    <tr>\n",
       "      <th>4</th>\n",
       "      <td>-0.384675</td>\n",
       "      <td>-0.833624</td>\n",
       "      <td>1.358552</td>\n",
       "      <td>-0.547932</td>\n",
       "      <td>0.411925</td>\n",
       "    </tr>\n",
       "    <tr>\n",
       "      <th>...</th>\n",
       "      <td>...</td>\n",
       "      <td>...</td>\n",
       "      <td>...</td>\n",
       "      <td>...</td>\n",
       "      <td>...</td>\n",
       "    </tr>\n",
       "    <tr>\n",
       "      <th>395</th>\n",
       "      <td>-0.436959</td>\n",
       "      <td>-0.575844</td>\n",
       "      <td>-1.620908</td>\n",
       "      <td>-0.222588</td>\n",
       "      <td>1.086013</td>\n",
       "    </tr>\n",
       "    <tr>\n",
       "      <th>396</th>\n",
       "      <td>-0.421324</td>\n",
       "      <td>-2.417543</td>\n",
       "      <td>0.876275</td>\n",
       "      <td>0.844565</td>\n",
       "      <td>0.171646</td>\n",
       "    </tr>\n",
       "    <tr>\n",
       "      <th>397</th>\n",
       "      <td>0.554728</td>\n",
       "      <td>1.768243</td>\n",
       "      <td>-0.897787</td>\n",
       "      <td>-1.193661</td>\n",
       "      <td>0.340563</td>\n",
       "    </tr>\n",
       "    <tr>\n",
       "      <th>398</th>\n",
       "      <td>-1.627172</td>\n",
       "      <td>0.856471</td>\n",
       "      <td>-0.000566</td>\n",
       "      <td>0.629387</td>\n",
       "      <td>0.453382</td>\n",
       "    </tr>\n",
       "    <tr>\n",
       "      <th>399</th>\n",
       "      <td>0.139310</td>\n",
       "      <td>0.531597</td>\n",
       "      <td>-0.853107</td>\n",
       "      <td>0.031692</td>\n",
       "      <td>1.714893</td>\n",
       "    </tr>\n",
       "  </tbody>\n",
       "</table>\n",
       "<p>400 rows × 5 columns</p>\n",
       "</div>"
      ],
      "text/plain": [
       "     feature_1  feature_2  feature_3  feature_4  feature_5\n",
       "0     1.015254   2.076209  -0.266435  -2.418088  -0.980503\n",
       "1    -0.375021   0.953185   0.626719   0.704406  -0.355489\n",
       "2    -1.024452   0.962991  -0.407942  -1.861274   0.455201\n",
       "3    -2.489841   0.544802   0.601219  -0.607021  -1.314286\n",
       "4    -0.384675  -0.833624   1.358552  -0.547932   0.411925\n",
       "..         ...        ...        ...        ...        ...\n",
       "395  -0.436959  -0.575844  -1.620908  -0.222588   1.086013\n",
       "396  -0.421324  -2.417543   0.876275   0.844565   0.171646\n",
       "397   0.554728   1.768243  -0.897787  -1.193661   0.340563\n",
       "398  -1.627172   0.856471  -0.000566   0.629387   0.453382\n",
       "399   0.139310   0.531597  -0.853107   0.031692   1.714893\n",
       "\n",
       "[400 rows x 5 columns]"
      ]
     },
     "execution_count": 42,
     "metadata": {},
     "output_type": "execute_result"
    }
   ],
   "source": [
    "X_test"
   ]
  },
  {
   "cell_type": "code",
   "execution_count": 44,
   "metadata": {},
   "outputs": [
    {
     "data": {
      "text/plain": [
       "numpy.ndarray"
      ]
     },
     "execution_count": 44,
     "metadata": {},
     "output_type": "execute_result"
    }
   ],
   "source": [
    "X_test=X_test.to_numpy()\n",
    "type(X_test)"
   ]
  },
  {
   "cell_type": "code",
   "execution_count": 48,
   "metadata": {},
   "outputs": [
    {
     "name": "stdout",
     "output_type": "stream",
     "text": [
      "[[ 1.01525387e+00  2.07620944e+00 -2.66434820e-01 -2.41808820e+00\n",
      "  -9.80502790e-01]\n",
      " [-3.75021204e-01  9.53184528e-01  6.26719138e-01  7.04405750e-01\n",
      "  -3.55489211e-01]\n",
      " [-1.02445225e+00  9.62991107e-01 -4.07942004e-01 -1.86127383e+00\n",
      "   4.55201351e-01]\n",
      " ...\n",
      " [ 5.54727647e-01  1.76824345e+00 -8.97787210e-01 -1.19366107e+00\n",
      "   3.40563374e-01]\n",
      " [-1.62717246e+00  8.56470994e-01 -5.65729519e-04  6.29386649e-01\n",
      "   4.53382144e-01]\n",
      " [ 1.39310499e-01  5.31597186e-01 -8.53107053e-01  3.16920076e-02\n",
      "   1.71489304e+00]]\n"
     ]
    }
   ],
   "source": [
    "print(X_test)\n"
   ]
  },
  {
   "cell_type": "code",
   "execution_count": 58,
   "metadata": {},
   "outputs": [
    {
     "name": "stdout",
     "output_type": "stream",
     "text": [
      "[[ 1.06045325  2.04744832 -0.24549091 -2.30661408 -1.08034112]\n",
      " [-0.36118497  0.94676928  0.61285352  0.71550489 -0.41280281]\n",
      " [-1.02526649  0.95638073 -0.38148304 -1.76769893  0.45304559]\n",
      " ...\n",
      " [ 0.58953804  1.74561022 -0.85223715 -1.1215471   0.33060786]\n",
      " [-1.64158344  0.85198015  0.01001627  0.64289734  0.4511026 ]\n",
      " [ 0.16474952  0.53357066 -0.80929835  0.06441606  1.79844429]]\n",
      "[29.59359198 94.65067706  8.37544469 45.52303635  2.46461552]\n"
     ]
    }
   ],
   "source": [
    "#Normalisation\n",
    "u=np.mean(X_test,axis=0)\n",
    "std=np.std(X_test,axis=0)\n",
    "\n",
    "X_test=(X_test-u)/std\n",
    "\n",
    "print(X_test)\n",
    "print(theta)"
   ]
  },
  {
   "cell_type": "code",
   "execution_count": 61,
   "metadata": {},
   "outputs": [
    {
     "data": {
      "text/plain": [
       "(400, 5)"
      ]
     },
     "execution_count": 61,
     "metadata": {},
     "output_type": "execute_result"
    }
   ],
   "source": [
    "X_test.shape "
   ]
  },
  {
   "cell_type": "code",
   "execution_count": 62,
   "metadata": {},
   "outputs": [
    {
     "data": {
      "text/plain": [
       "(5,)"
      ]
     },
     "execution_count": 62,
     "metadata": {},
     "output_type": "execute_result"
    }
   ],
   "source": [
    "theta.shape"
   ]
  },
  {
   "cell_type": "code",
   "execution_count": 59,
   "metadata": {},
   "outputs": [],
   "source": [
    "#Predictions for test data\n",
    "Y_test=hypothesis(X_test,theta)"
   ]
  },
  {
   "cell_type": "code",
   "execution_count": 63,
   "metadata": {},
   "outputs": [
    {
     "data": {
      "text/plain": [
       "(400,)"
      ]
     },
     "execution_count": 63,
     "metadata": {},
     "output_type": "execute_result"
    }
   ],
   "source": [
    "Y_test.shape"
   ]
  },
  {
   "cell_type": "code",
   "execution_count": 64,
   "metadata": {},
   "outputs": [
    {
     "data": {
      "text/plain": [
       "numpy.ndarray"
      ]
     },
     "execution_count": 64,
     "metadata": {},
     "output_type": "execute_result"
    }
   ],
   "source": [
    "type(Y_test)"
   ]
  },
  {
   "cell_type": "code",
   "execution_count": 66,
   "metadata": {},
   "outputs": [],
   "source": [
    "#print(Y_test)"
   ]
  },
  {
   "cell_type": "code",
   "execution_count": 139,
   "metadata": {},
   "outputs": [],
   "source": [
    "Id=np.arange(400)\n",
    "#print(Id)"
   ]
  },
  {
   "cell_type": "code",
   "execution_count": 140,
   "metadata": {},
   "outputs": [],
   "source": [
    "df=pd.DataFrame(data=Y_test,columns=['target'])\n"
   ]
  },
  {
   "cell_type": "code",
   "execution_count": 141,
   "metadata": {},
   "outputs": [
    {
     "data": {
      "text/html": [
       "<div>\n",
       "<style scoped>\n",
       "    .dataframe tbody tr th:only-of-type {\n",
       "        vertical-align: middle;\n",
       "    }\n",
       "\n",
       "    .dataframe tbody tr th {\n",
       "        vertical-align: top;\n",
       "    }\n",
       "\n",
       "    .dataframe thead th {\n",
       "        text-align: right;\n",
       "    }\n",
       "</style>\n",
       "<table border=\"1\" class=\"dataframe\">\n",
       "  <thead>\n",
       "    <tr style=\"text-align: right;\">\n",
       "      <th></th>\n",
       "      <th>target</th>\n",
       "    </tr>\n",
       "  </thead>\n",
       "  <tbody>\n",
       "    <tr>\n",
       "      <th>0</th>\n",
       "      <td>115.452194</td>\n",
       "    </tr>\n",
       "    <tr>\n",
       "      <th>1</th>\n",
       "      <td>115.611069</td>\n",
       "    </tr>\n",
       "    <tr>\n",
       "      <th>2</th>\n",
       "      <td>-22.368764</td>\n",
       "    </tr>\n",
       "    <tr>\n",
       "      <th>3</th>\n",
       "      <td>-46.780611</td>\n",
       "    </tr>\n",
       "    <tr>\n",
       "      <th>4</th>\n",
       "      <td>-97.705497</td>\n",
       "    </tr>\n",
       "  </tbody>\n",
       "</table>\n",
       "</div>"
      ],
      "text/plain": [
       "       target\n",
       "0  115.452194\n",
       "1  115.611069\n",
       "2  -22.368764\n",
       "3  -46.780611\n",
       "4  -97.705497"
      ]
     },
     "execution_count": 141,
     "metadata": {},
     "output_type": "execute_result"
    }
   ],
   "source": [
    "df.head()"
   ]
  },
  {
   "cell_type": "code",
   "execution_count": 143,
   "metadata": {},
   "outputs": [],
   "source": [
    "df.index.name='Id'"
   ]
  },
  {
   "cell_type": "code",
   "execution_count": null,
   "metadata": {},
   "outputs": [],
   "source": []
  },
  {
   "cell_type": "code",
   "execution_count": 146,
   "metadata": {},
   "outputs": [],
   "source": [
    "df.to_csv('Result.csv')"
   ]
  },
  {
   "cell_type": "code",
   "execution_count": 147,
   "metadata": {},
   "outputs": [
    {
     "data": {
      "text/html": [
       "<div>\n",
       "<style scoped>\n",
       "    .dataframe tbody tr th:only-of-type {\n",
       "        vertical-align: middle;\n",
       "    }\n",
       "\n",
       "    .dataframe tbody tr th {\n",
       "        vertical-align: top;\n",
       "    }\n",
       "\n",
       "    .dataframe thead th {\n",
       "        text-align: right;\n",
       "    }\n",
       "</style>\n",
       "<table border=\"1\" class=\"dataframe\">\n",
       "  <thead>\n",
       "    <tr style=\"text-align: right;\">\n",
       "      <th></th>\n",
       "      <th>target</th>\n",
       "    </tr>\n",
       "    <tr>\n",
       "      <th>Id</th>\n",
       "      <th></th>\n",
       "    </tr>\n",
       "  </thead>\n",
       "  <tbody>\n",
       "    <tr>\n",
       "      <th>0</th>\n",
       "      <td>115.452194</td>\n",
       "    </tr>\n",
       "    <tr>\n",
       "      <th>1</th>\n",
       "      <td>115.611069</td>\n",
       "    </tr>\n",
       "    <tr>\n",
       "      <th>2</th>\n",
       "      <td>-22.368764</td>\n",
       "    </tr>\n",
       "    <tr>\n",
       "      <th>3</th>\n",
       "      <td>-46.780611</td>\n",
       "    </tr>\n",
       "    <tr>\n",
       "      <th>4</th>\n",
       "      <td>-97.705497</td>\n",
       "    </tr>\n",
       "  </tbody>\n",
       "</table>\n",
       "</div>"
      ],
      "text/plain": [
       "        target\n",
       "Id            \n",
       "0   115.452194\n",
       "1   115.611069\n",
       "2   -22.368764\n",
       "3   -46.780611\n",
       "4   -97.705497"
      ]
     },
     "execution_count": 147,
     "metadata": {},
     "output_type": "execute_result"
    }
   ],
   "source": [
    "df.head()"
   ]
  },
  {
   "cell_type": "code",
   "execution_count": null,
   "metadata": {},
   "outputs": [],
   "source": []
  }
 ],
 "metadata": {
  "kernelspec": {
   "display_name": "Python 3",
   "language": "python",
   "name": "python3"
  },
  "language_info": {
   "codemirror_mode": {
    "name": "ipython",
    "version": 3
   },
   "file_extension": ".py",
   "mimetype": "text/x-python",
   "name": "python",
   "nbconvert_exporter": "python",
   "pygments_lexer": "ipython3",
   "version": "3.8.2"
  }
 },
 "nbformat": 4,
 "nbformat_minor": 4
}
