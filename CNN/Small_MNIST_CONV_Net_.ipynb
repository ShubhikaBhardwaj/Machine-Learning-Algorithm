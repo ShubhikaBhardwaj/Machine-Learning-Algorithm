{
  "nbformat": 4,
  "nbformat_minor": 0,
  "metadata": {
    "colab": {
      "name": "Small MNIST CONV Net .ipynb",
      "provenance": [],
      "collapsed_sections": []
    },
    "kernelspec": {
      "name": "python3",
      "display_name": "Python 3"
    },
    "accelerator": "TPU"
  },
  "cells": [
    {
      "cell_type": "code",
      "metadata": {
        "id": "EX4eJJGh0D5_",
        "colab_type": "code",
        "colab": {
          "base_uri": "https://localhost:8080/",
          "height": 35
        },
        "outputId": "a5a329c5-b482-4f28-f792-d238cf95bb02"
      },
      "source": [
        "from keras.layers import *\n",
        "from keras.models import Sequential"
      ],
      "execution_count": 2,
      "outputs": [
        {
          "output_type": "stream",
          "text": [
            "Using TensorFlow backend.\n"
          ],
          "name": "stderr"
        }
      ]
    },
    {
      "cell_type": "markdown",
      "metadata": {
        "id": "KRiJmEWZ0NQ5",
        "colab_type": "text"
      },
      "source": [
        "Keras APIs->\n",
        "* Functional - Branched model(Complex Model)\n",
        "* Sequenctional"
      ]
    },
    {
      "cell_type": "code",
      "metadata": {
        "id": "t74lcqh50e7A",
        "colab_type": "code",
        "colab": {}
      },
      "source": [
        "# Build a model\n",
        "\n",
        "model=Sequential()        #edges\n",
        "model.add(Conv2D(32,(3,3),activation='relu',input_shape=(28,28,1)))\n",
        "model.add(MaxPool2D(2,2))  #eyes\n",
        "##Max pool 2D \n",
        "## Both stride and pool are (2X2)\n",
        "model.add(Conv2D(64,(3,3),activation='relu',input_shape=(28,28,1)))\n",
        "model.add(MaxPool2D(2,2))   #face,ears -> increased receptive field\n",
        "model.add(Conv2D(64,(3,3),activation='relu',input_shape=(28,28,1)))\n",
        "model.add(Flatten())\n",
        "model.add(Dense(64,activation='relu'))\n",
        "model.add(Dense(10,activation='softmax'))\n",
        "\n"
      ],
      "execution_count": 0,
      "outputs": []
    },
    {
      "cell_type": "code",
      "metadata": {
        "id": "kPPS9Z9L0JDU",
        "colab_type": "code",
        "colab": {
          "base_uri": "https://localhost:8080/",
          "height": 433
        },
        "outputId": "bb70f722-0a23-4428-a4c5-453bbbe54b43"
      },
      "source": [
        "model.summary()"
      ],
      "execution_count": 4,
      "outputs": [
        {
          "output_type": "stream",
          "text": [
            "Model: \"sequential_1\"\n",
            "_________________________________________________________________\n",
            "Layer (type)                 Output Shape              Param #   \n",
            "=================================================================\n",
            "conv2d_1 (Conv2D)            (None, 26, 26, 32)        320       \n",
            "_________________________________________________________________\n",
            "max_pooling2d_1 (MaxPooling2 (None, 13, 13, 32)        0         \n",
            "_________________________________________________________________\n",
            "conv2d_2 (Conv2D)            (None, 11, 11, 64)        18496     \n",
            "_________________________________________________________________\n",
            "max_pooling2d_2 (MaxPooling2 (None, 5, 5, 64)          0         \n",
            "_________________________________________________________________\n",
            "conv2d_3 (Conv2D)            (None, 3, 3, 64)          36928     \n",
            "_________________________________________________________________\n",
            "flatten_1 (Flatten)          (None, 576)               0         \n",
            "_________________________________________________________________\n",
            "dense_1 (Dense)              (None, 64)                36928     \n",
            "_________________________________________________________________\n",
            "dense_2 (Dense)              (None, 10)                650       \n",
            "=================================================================\n",
            "Total params: 93,322\n",
            "Trainable params: 93,322\n",
            "Non-trainable params: 0\n",
            "_________________________________________________________________\n"
          ],
          "name": "stdout"
        }
      ]
    },
    {
      "cell_type": "markdown",
      "metadata": {
        "id": "c5MSKJq30K_X",
        "colab_type": "text"
      },
      "source": [
        "* MAx Pooling -> Shrink height and width, Channel=same\n",
        "* Small Kernel->Network Deep-> Model more powerful!!\n",
        "* As we go deep & Pooling Layer -> in both the cases receptive field of the kernal increases"
      ]
    },
    {
      "cell_type": "code",
      "metadata": {
        "id": "JBadLUSc0ea6",
        "colab_type": "code",
        "colab": {}
      },
      "source": [
        "from keras.datasets import mnist\n",
        "from keras.utils import to_categorical"
      ],
      "execution_count": 0,
      "outputs": []
    },
    {
      "cell_type": "code",
      "metadata": {
        "id": "TMfToJwQ2Sdr",
        "colab_type": "code",
        "colab": {
          "base_uri": "https://localhost:8080/",
          "height": 52
        },
        "outputId": "b06bfbc8-9290-49ef-b097-3e465dcd3a94"
      },
      "source": [
        "(Xtrain,Ytrain),(Xtest,Ytest)=mnist.load_data()"
      ],
      "execution_count": 6,
      "outputs": [
        {
          "output_type": "stream",
          "text": [
            "Downloading data from https://s3.amazonaws.com/img-datasets/mnist.npz\n",
            "11493376/11490434 [==============================] - 0s 0us/step\n"
          ],
          "name": "stdout"
        }
      ]
    },
    {
      "cell_type": "code",
      "metadata": {
        "id": "VmrKK5gR2bi6",
        "colab_type": "code",
        "colab": {
          "base_uri": "https://localhost:8080/",
          "height": 35
        },
        "outputId": "6abbeb4a-84c8-4e2a-a4e6-97aaebc44c91"
      },
      "source": [
        "Xtrain.shape"
      ],
      "execution_count": 7,
      "outputs": [
        {
          "output_type": "execute_result",
          "data": {
            "text/plain": [
              "(60000, 28, 28)"
            ]
          },
          "metadata": {
            "tags": []
          },
          "execution_count": 7
        }
      ]
    },
    {
      "cell_type": "code",
      "metadata": {
        "id": "NMcZ1RlX2jzF",
        "colab_type": "code",
        "colab": {
          "base_uri": "https://localhost:8080/",
          "height": 35
        },
        "outputId": "5d32bba3-4970-475e-e807-5a6db06f9009"
      },
      "source": [
        "Ytrain.shape"
      ],
      "execution_count": 8,
      "outputs": [
        {
          "output_type": "execute_result",
          "data": {
            "text/plain": [
              "(60000,)"
            ]
          },
          "metadata": {
            "tags": []
          },
          "execution_count": 8
        }
      ]
    },
    {
      "cell_type": "code",
      "metadata": {
        "id": "2K15F-zM2k4p",
        "colab_type": "code",
        "colab": {}
      },
      "source": [
        "def preprocess_data(X,Y):\n",
        "  X=X.reshape((-1,28,28,1))\n",
        "  X=X/255.0\n",
        "  Y=to_categorical(Y)\n",
        "  return X,Y"
      ],
      "execution_count": 0,
      "outputs": []
    },
    {
      "cell_type": "code",
      "metadata": {
        "id": "TQZV8sL224Yt",
        "colab_type": "code",
        "colab": {
          "base_uri": "https://localhost:8080/",
          "height": 35
        },
        "outputId": "68a980b9-d4c9-4c48-ee73-9e39e4b6c9ef"
      },
      "source": [
        "Xtrain,Ytrain=preprocess_data(Xtrain,Ytrain)\n",
        "print(Xtrain.shape,Ytrain.shape)"
      ],
      "execution_count": 10,
      "outputs": [
        {
          "output_type": "stream",
          "text": [
            "(60000, 28, 28, 1) (60000, 10)\n"
          ],
          "name": "stdout"
        }
      ]
    },
    {
      "cell_type": "code",
      "metadata": {
        "id": "ik8bi-h83DzJ",
        "colab_type": "code",
        "colab": {
          "base_uri": "https://localhost:8080/",
          "height": 35
        },
        "outputId": "aaa15146-f4fe-48a4-f015-12cc4e2c13a3"
      },
      "source": [
        "Xtest,Ytest=preprocess_data(Xtest,Ytest)\n",
        "print(Xtest.shape,Ytest.shape)"
      ],
      "execution_count": 11,
      "outputs": [
        {
          "output_type": "stream",
          "text": [
            "(10000, 28, 28, 1) (10000, 10)\n"
          ],
          "name": "stdout"
        }
      ]
    },
    {
      "cell_type": "code",
      "metadata": {
        "id": "samEn7bn3R3u",
        "colab_type": "code",
        "colab": {}
      },
      "source": [
        "#Compile\n",
        "#Optimizer- Back Propagate the loss\n",
        "model.compile(optimizer='adam',loss='categorical_crossentropy',metrics=['accuracy'])"
      ],
      "execution_count": 0,
      "outputs": []
    },
    {
      "cell_type": "code",
      "metadata": {
        "id": "vxlG7ryd3kwI",
        "colab_type": "code",
        "colab": {
          "base_uri": "https://localhost:8080/",
          "height": 401
        },
        "outputId": "1c58f376-ddea-4d8a-9fbc-3e4073691123"
      },
      "source": [
        "#Training\n",
        "\n",
        "model.fit(Xtrain,Ytrain,epochs=10,batch_size=128)\n",
        "\n"
      ],
      "execution_count": 13,
      "outputs": [
        {
          "output_type": "stream",
          "text": [
            "Epoch 1/10\n",
            "60000/60000 [==============================] - 45s 743us/step - loss: 0.2347 - accuracy: 0.9309\n",
            "Epoch 2/10\n",
            "60000/60000 [==============================] - 44s 734us/step - loss: 0.0618 - accuracy: 0.9811\n",
            "Epoch 3/10\n",
            "60000/60000 [==============================] - 44s 734us/step - loss: 0.0437 - accuracy: 0.9861\n",
            "Epoch 4/10\n",
            "60000/60000 [==============================] - 44s 734us/step - loss: 0.0325 - accuracy: 0.9898\n",
            "Epoch 5/10\n",
            "60000/60000 [==============================] - 44s 734us/step - loss: 0.0277 - accuracy: 0.9914\n",
            "Epoch 6/10\n",
            "60000/60000 [==============================] - 44s 731us/step - loss: 0.0228 - accuracy: 0.9926\n",
            "Epoch 7/10\n",
            "60000/60000 [==============================] - 44s 730us/step - loss: 0.0188 - accuracy: 0.9940\n",
            "Epoch 8/10\n",
            "60000/60000 [==============================] - 44s 729us/step - loss: 0.0167 - accuracy: 0.9946\n",
            "Epoch 9/10\n",
            "60000/60000 [==============================] - 44s 731us/step - loss: 0.0140 - accuracy: 0.9958\n",
            "Epoch 10/10\n",
            "60000/60000 [==============================] - 44s 730us/step - loss: 0.0115 - accuracy: 0.9963\n"
          ],
          "name": "stdout"
        },
        {
          "output_type": "execute_result",
          "data": {
            "text/plain": [
              "<keras.callbacks.callbacks.History at 0x7f84c90a4f60>"
            ]
          },
          "metadata": {
            "tags": []
          },
          "execution_count": 13
        }
      ]
    },
    {
      "cell_type": "code",
      "metadata": {
        "id": "rk1xLLUT4Exb",
        "colab_type": "code",
        "colab": {
          "base_uri": "https://localhost:8080/",
          "height": 728
        },
        "outputId": "deddd18d-fa87-4840-d81a-ce4245f8e1b6"
      },
      "source": [
        "hist=model.fit(Xtrain,Ytrain,epochs=20,validation_split=0.1,batch_size=128)"
      ],
      "execution_count": 14,
      "outputs": [
        {
          "output_type": "stream",
          "text": [
            "Train on 54000 samples, validate on 6000 samples\n",
            "Epoch 1/20\n",
            "54000/54000 [==============================] - 41s 752us/step - loss: 0.0114 - accuracy: 0.9962 - val_loss: 0.0083 - val_accuracy: 0.9972\n",
            "Epoch 2/20\n",
            "54000/54000 [==============================] - 41s 754us/step - loss: 0.0088 - accuracy: 0.9972 - val_loss: 0.0114 - val_accuracy: 0.9970\n",
            "Epoch 3/20\n",
            "54000/54000 [==============================] - 41s 751us/step - loss: 0.0093 - accuracy: 0.9968 - val_loss: 0.0169 - val_accuracy: 0.9953\n",
            "Epoch 4/20\n",
            "54000/54000 [==============================] - 41s 752us/step - loss: 0.0087 - accuracy: 0.9969 - val_loss: 0.0205 - val_accuracy: 0.9938\n",
            "Epoch 5/20\n",
            "54000/54000 [==============================] - 41s 752us/step - loss: 0.0060 - accuracy: 0.9978 - val_loss: 0.0178 - val_accuracy: 0.9950\n",
            "Epoch 6/20\n",
            "54000/54000 [==============================] - 41s 751us/step - loss: 0.0066 - accuracy: 0.9978 - val_loss: 0.0224 - val_accuracy: 0.9928\n",
            "Epoch 7/20\n",
            "54000/54000 [==============================] - 40s 745us/step - loss: 0.0067 - accuracy: 0.9977 - val_loss: 0.0187 - val_accuracy: 0.9955\n",
            "Epoch 8/20\n",
            "54000/54000 [==============================] - 40s 744us/step - loss: 0.0031 - accuracy: 0.9989 - val_loss: 0.0217 - val_accuracy: 0.9943\n",
            "Epoch 9/20\n",
            "54000/54000 [==============================] - 40s 745us/step - loss: 0.0071 - accuracy: 0.9978 - val_loss: 0.0326 - val_accuracy: 0.9928\n",
            "Epoch 10/20\n",
            "54000/54000 [==============================] - 40s 745us/step - loss: 0.0046 - accuracy: 0.9984 - val_loss: 0.0242 - val_accuracy: 0.9945\n",
            "Epoch 11/20\n",
            "54000/54000 [==============================] - 40s 749us/step - loss: 0.0035 - accuracy: 0.9986 - val_loss: 0.0209 - val_accuracy: 0.9953\n",
            "Epoch 12/20\n",
            "54000/54000 [==============================] - 40s 747us/step - loss: 0.0037 - accuracy: 0.9988 - val_loss: 0.0252 - val_accuracy: 0.9950\n",
            "Epoch 13/20\n",
            "54000/54000 [==============================] - 40s 749us/step - loss: 0.0058 - accuracy: 0.9979 - val_loss: 0.0274 - val_accuracy: 0.9937\n",
            "Epoch 14/20\n",
            "54000/54000 [==============================] - 41s 751us/step - loss: 0.0030 - accuracy: 0.9990 - val_loss: 0.0281 - val_accuracy: 0.9942\n",
            "Epoch 15/20\n",
            "54000/54000 [==============================] - 40s 748us/step - loss: 0.0047 - accuracy: 0.9984 - val_loss: 0.0272 - val_accuracy: 0.9940\n",
            "Epoch 16/20\n",
            "54000/54000 [==============================] - 40s 748us/step - loss: 0.0033 - accuracy: 0.9988 - val_loss: 0.0297 - val_accuracy: 0.9943\n",
            "Epoch 17/20\n",
            "54000/54000 [==============================] - 40s 749us/step - loss: 0.0025 - accuracy: 0.9992 - val_loss: 0.0290 - val_accuracy: 0.9952\n",
            "Epoch 18/20\n",
            "54000/54000 [==============================] - 41s 751us/step - loss: 0.0032 - accuracy: 0.9991 - val_loss: 0.0229 - val_accuracy: 0.9950\n",
            "Epoch 19/20\n",
            "54000/54000 [==============================] - 41s 752us/step - loss: 0.0022 - accuracy: 0.9993 - val_loss: 0.0521 - val_accuracy: 0.9915\n",
            "Epoch 20/20\n",
            "54000/54000 [==============================] - 41s 751us/step - loss: 0.0039 - accuracy: 0.9987 - val_loss: 0.0305 - val_accuracy: 0.9935\n"
          ],
          "name": "stdout"
        }
      ]
    },
    {
      "cell_type": "code",
      "metadata": {
        "id": "r799dhqF6DG7",
        "colab_type": "code",
        "colab": {
          "base_uri": "https://localhost:8080/",
          "height": 52
        },
        "outputId": "23a74b36-03ec-4f69-c890-f4e9e99a655f"
      },
      "source": [
        "model.evaluate(Xtest,Ytest)"
      ],
      "execution_count": 16,
      "outputs": [
        {
          "output_type": "stream",
          "text": [
            "10000/10000 [==============================] - 3s 286us/step\n"
          ],
          "name": "stdout"
        },
        {
          "output_type": "execute_result",
          "data": {
            "text/plain": [
              "[0.03622306419772271, 0.992900013923645]"
            ]
          },
          "metadata": {
            "tags": []
          },
          "execution_count": 16
        }
      ]
    },
    {
      "cell_type": "code",
      "metadata": {
        "id": "fgTGWduR80y7",
        "colab_type": "code",
        "colab": {}
      },
      "source": [
        "#Train Only till 12 epoch->avoid overfitting"
      ],
      "execution_count": 0,
      "outputs": []
    },
    {
      "cell_type": "code",
      "metadata": {
        "id": "PvlaChIh9G-e",
        "colab_type": "code",
        "colab": {}
      },
      "source": [
        ""
      ],
      "execution_count": 0,
      "outputs": []
    }
  ]
}