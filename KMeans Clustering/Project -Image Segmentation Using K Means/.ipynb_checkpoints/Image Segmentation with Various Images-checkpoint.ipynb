{
 "cells": [
  {
   "cell_type": "code",
   "execution_count": 4,
   "metadata": {},
   "outputs": [],
   "source": [
    "import cv2\n",
    "import numpy as np\n",
    "import matplotlib.pyplot as plt\n",
    "from sklearn.cluster import KMeans"
   ]
  },
  {
   "cell_type": "code",
   "execution_count": null,
   "metadata": {},
   "outputs": [],
   "source": [
    "im=cv2.imread('Beach.jpg') #reads image in BGR format\n",
    "im=cv2.cvtColor(im,cv2.COLOR_BGR2RGB)\n",
    "\n",
    "original_shape=im.shape\n",
    "\n",
    "plt.imshow(im)  #Image in real colors\n",
    "plt.show()\n"
   ]
  },
  {
   "cell_type": "code",
   "execution_count": null,
   "metadata": {},
   "outputs": [],
   "source": [
    "shape1=im.shape[0]\n",
    "shape2=im.shape[1]\n",
    "shape3=im.shape[2]"
   ]
  },
  {
   "cell_type": "code",
   "execution_count": null,
   "metadata": {},
   "outputs": [],
   "source": [
    "#Flatten Each Channel of the Image\n",
    "all_pixels=im.reshape((shape1*shape2,3))"
   ]
  },
  {
   "cell_type": "code",
   "execution_count": null,
   "metadata": {},
   "outputs": [],
   "source": [
    "dominant_colors= 7  #Giving the value of K\n",
    "\n",
    "km=KMeans(n_clusters=dominant_colors)\n",
    "km.fit(all_pixels)"
   ]
  },
  {
   "cell_type": "code",
   "execution_count": null,
   "metadata": {},
   "outputs": [],
   "source": [
    "centers=np.array(km.cluster_centers_,dtype='uint8')\n",
    "print(centers)"
   ]
  },
  {
   "cell_type": "markdown",
   "metadata": {},
   "source": [
    "## What's in the color palette?"
   ]
  },
  {
   "cell_type": "code",
   "execution_count": null,
   "metadata": {},
   "outputs": [],
   "source": [
    "i=1\n",
    "\n",
    "plt.figure(0,figsize=(10,dominant_colors))\n",
    "\n",
    "colors=[]\n",
    "\n",
    "for each_col in centers: #Each color\n",
    "    plt.subplot(1,dominant_colors,i)\n",
    "    plt.axis(\"off\")\n",
    "    i+=1\n",
    "    \n",
    "    colors.append(each_col)\n",
    "    \n",
    "    #Color Swatch\n",
    "    a=np.zeros((shape1,shape2,3),dtype='uint8')\n",
    "    a[:,:,:]=each_col\n",
    "    plt.imshow(a)\n",
    "    \n",
    "plt.show()\n"
   ]
  },
  {
   "cell_type": "markdown",
   "metadata": {},
   "source": [
    "## Segmenting Our Original Image"
   ]
  },
  {
   "cell_type": "code",
   "execution_count": null,
   "metadata": {},
   "outputs": [],
   "source": [
    "new_img=np.zeros((shape1*shape2,3),dtype='uint8')\n",
    "print(new_img)"
   ]
  },
  {
   "cell_type": "code",
   "execution_count": null,
   "metadata": {},
   "outputs": [],
   "source": [
    "print(colors)\n",
    "print(km.labels_) #Given labels 0,1,2,3..and so on! by K Means"
   ]
  },
  {
   "cell_type": "code",
   "execution_count": null,
   "metadata": {},
   "outputs": [],
   "source": [
    "for i in range(new_img.shape[0]):\n",
    "    new_img[i]=colors[km.labels_[i]]\n",
    "    \n",
    "new_img=new_img.reshape((original_shape))\n",
    "\n",
    "plt.imshow(new_img)\n",
    "plt.title('Segmented Image')\n",
    "plt.show()\n",
    " "
   ]
  },
  {
   "cell_type": "code",
   "execution_count": null,
   "metadata": {},
   "outputs": [],
   "source": []
  },
  {
   "cell_type": "code",
   "execution_count": null,
   "metadata": {},
   "outputs": [],
   "source": []
  }
 ],
 "metadata": {
  "kernelspec": {
   "display_name": "Python 3",
   "language": "python",
   "name": "python3"
  },
  "language_info": {
   "codemirror_mode": {
    "name": "ipython",
    "version": 3
   },
   "file_extension": ".py",
   "mimetype": "text/x-python",
   "name": "python",
   "nbconvert_exporter": "python",
   "pygments_lexer": "ipython3",
   "version": "3.8.2"
  }
 },
 "nbformat": 4,
 "nbformat_minor": 4
}
